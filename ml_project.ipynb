{
 "cells": [
  {
   "cell_type": "code",
   "execution_count": 39,
   "metadata": {},
   "outputs": [],
   "source": [
    "import matplotlib.pyplot as plt\n",
    "import numpy as np\n",
    "import pandas as pd\n"
   ]
  },
  {
   "cell_type": "code",
   "execution_count": 40,
   "metadata": {},
   "outputs": [
    {
     "name": "stdout",
     "output_type": "stream",
     "text": [
      "[[0 0 0 ... 0 0 0]\n",
      " [0 0 0 ... 0 0 1]\n",
      " [0 0 0 ... 0 0 0]\n",
      " ...\n",
      " [0 0 0 ... 0 0 3]\n",
      " [0 0 0 ... 0 0 0]\n",
      " [0 0 0 ... 0 0 1]]\n"
     ]
    }
   ],
   "source": [
    "# Specify the path to your .npy file\n",
    "train_file_path = 'fashion_train.npy'\n",
    "test_file_path = 'fashion_test.npy'\n",
    "\n",
    "# Load the data from the .npy file\n",
    "train_data = np.load(train_file_path)\n",
    "test_data = np.load(test_file_path)\n",
    "print(train_data)"
   ]
  },
  {
   "cell_type": "code",
   "execution_count": 41,
   "metadata": {},
   "outputs": [
    {
     "name": "stdout",
     "output_type": "stream",
     "text": [
      "   0    1    2    3    4    5    6    7    8    9    ...  775  776  777  778  \\\n",
      "0    0    0    0    0    0    3    0    0    0   41  ...   63   78   11    0   \n",
      "1    0    0    0    0    0    0    0    0    0    0  ...   32    0    0    0   \n",
      "2    0    0    0    0    0    1    1    0    0    0  ...  168  119    0    0   \n",
      "3    0    0    0    0    0    0    0    0    0   98  ...   21    0    0    0   \n",
      "4    0    0    0    0    0    0    0    2    0    0  ...   88  128   46    0   \n",
      "\n",
      "   779  780  781  782  783  784  \n",
      "0    2    0    0    0    0    0  \n",
      "1    0    0    0    0    0    1  \n",
      "2    0    0    0    0    0    0  \n",
      "3    0    0    0    0    0    3  \n",
      "4    0    0    0    0    0    4  \n",
      "\n",
      "[5 rows x 785 columns]\n"
     ]
    }
   ],
   "source": [
    "#convert it to a dataframe\n",
    "train_df = pd.DataFrame(train_data)\n",
    "test_df = pd.DataFrame(test_data)\n",
    "# print the first 5 items\n",
    "print(train_df.head())"
   ]
  },
  {
   "cell_type": "code",
   "execution_count": 42,
   "metadata": {},
   "outputs": [
    {
     "name": "stdout",
     "output_type": "stream",
     "text": [
      "10000\n"
     ]
    }
   ],
   "source": [
    "# get the number of rows\n",
    "num_rows = train_df.shape[0]\n",
    "print(num_rows)"
   ]
  },
  {
   "cell_type": "code",
   "execution_count": 43,
   "metadata": {},
   "outputs": [],
   "source": [
    "# Extract the last column\n",
    "last_column = train_data[:, -1]"
   ]
  },
  {
   "cell_type": "code",
   "execution_count": 44,
   "metadata": {},
   "outputs": [
    {
     "name": "stdout",
     "output_type": "stream",
     "text": [
      "Count of 0s: 2033\n",
      "Count of 1s: 1947\n",
      "Count of 2s: 2001\n",
      "Count of 3s: 2005\n",
      "Count of 4s: 2014\n"
     ]
    }
   ],
   "source": [
    "# Initialize counts\n",
    "count_0_tshirt = 0\n",
    "count_1_trousers = 0\n",
    "count_2_pull_over = 0\n",
    "count_3_dress = 0\n",
    "count_4_shirt = 0\n",
    "\n",
    "\n",
    "\n",
    "# Loop through the last column\n",
    "for value in last_column:\n",
    "    if value == 0:\n",
    "        count_0_tshirt += 1\n",
    "    elif value == 1:\n",
    "        count_1_trousers += 1\n",
    "    elif value == 2:\n",
    "        count_2_pull_over += 1\n",
    "    elif value == 3:\n",
    "        count_3_dress += 1\n",
    "    elif value == 4:\n",
    "        count_4_shirt += 1\n",
    "\n",
    "# Display the counts\n",
    "print(\"Count of 0s:\", count_0_tshirt)\n",
    "print(\"Count of 1s:\", count_1_trousers)\n",
    "print(\"Count of 2s:\", count_2_pull_over)\n",
    "print(\"Count of 3s:\", count_3_dress)\n",
    "print(\"Count of 4s:\", count_4_shirt)"
   ]
  },
  {
   "cell_type": "code",
   "execution_count": 45,
   "metadata": {},
   "outputs": [
    {
     "name": "stdout",
     "output_type": "stream",
     "text": [
      " P(T-shirt) = 0.2033\n",
      " P(Trousers) = 0.1947\n",
      " P(Pull Over) = 0.2001\n",
      " P(Dress) = 0.2005\n",
      " P(Shirt) = 0.2014\n"
     ]
    }
   ],
   "source": [
    "# Get the simple probabilities\n",
    "\n",
    "\n",
    "P_tshirt = count_0_tshirt / num_rows\n",
    "P_trouser = count_1_trousers / num_rows\n",
    "P_pull_over = count_2_pull_over/ num_rows\n",
    "P_dress = count_3_dress / num_rows\n",
    "P_shirt = count_4_shirt / num_rows\n",
    "\n",
    "print(f\" P(T-shirt) = {P_tshirt}\")\n",
    "print(f\" P(Trousers) = {P_trouser}\")\n",
    "print(f\" P(Pull Over) = {P_pull_over}\")\n",
    "print(f\" P(Dress) = {P_dress}\")\n",
    "print(f\" P(Shirt) = {P_shirt}\")"
   ]
  },
  {
   "cell_type": "markdown",
   "source": [],
   "metadata": {
    "collapsed": false
   }
  },
  {
   "cell_type": "code",
   "execution_count": 73,
   "metadata": {},
   "outputs": [
    {
     "data": {
      "text/plain": "<Figure size 432x288 with 1 Axes>",
      "image/png": "[encoded data removed]"
     },
     "metadata": {
      "needs_background": "light"
     },
     "output_type": "display_data"
    },
    {
     "name": "stderr",
     "output_type": "stream",
     "text": [
      "IOPub data rate exceeded.\n",
      "The notebook server will temporarily stop sending output\n",
      "to the client in order to avoid crashing it.\n",
      "To change this limit, set the config variable\n",
      "`--NotebookApp.iopub_data_rate_limit`.\n",
      "\n",
      "Current values:\n",
      "NotebookApp.iopub_data_rate_limit=1000000.0 (bytes/sec)\n",
      "NotebookApp.rate_limit_window=3.0 (secs)\n",
      "\n"
     ]
    }
   ],
   "source": [
    "#get list of\n",
    "t_shirt_list = []\n",
    "trouser_list = []\n",
    "pull_over_list = []\n",
    "dress_list = []\n",
    "shirt_list = []\n",
    "\n",
    "#create subset of data with the different classes\n",
    "for i in range(len(train_data)):\n",
    "    if train_data[i][-1] == 0:\n",
    "        t_shirt_list.append(train_data[i])\n",
    "    elif train_data[i][-1] == 1:\n",
    "        trouser_list.append(train_data[i])\n",
    "    elif train_data[i][-1] == 2:\n",
    "        pull_over_list.append(train_data[i])\n",
    "    elif train_data[i][-1] == 3:\n",
    "        dress_list.append(train_data[i])\n",
    "    elif train_data[i][-1] == 4:\n",
    "        shirt_list.append(train_data[i])\n",
    "\n",
    "mu0_tshirts = np.mean(t_shirt_list)\n",
    "mu1_trousers = np.mean(trouser_list)\n",
    "mu2_pull_over = np.mean(pull_over_list)\n",
    "mu3_dress = np.mean(dress_list)\n",
    "mu4_shirt = np.mean(shirt_list)\n",
    "concatenated_tshirt = np.concatenate(t_shirt_list)\n",
    "concatenated_trouser = np.concatenate(trouser_list)\n",
    "concatenated_pull_over = np.concatenate(pull_over_list)\n",
    "concatenated_dress = np.concatenate(dress_list)\n",
    "concatenated_shirt = np.concatenate(shirt_list)\n",
    "\n",
    "#plot all the histograms on top of eachother\n",
    "#plt.hist(concatenated_shirt)\n",
    "#plt.hist(concatenated_dress)\n",
    "#plt.hist(concatenated_pull_over)\n",
    "#plt.hist(concatenated_trouser)\n",
    "#plt.hist(concatenated_tshirt)\n",
    "#add transparency\n",
    "plt.hist(concatenated_shirt, alpha = 0.3)\n",
    "plt.hist(concatenated_dress, alpha = 0.3)\n",
    "plt.hist(concatenated_pull_over, alpha = 0.3)\n",
    "plt.hist(concatenated_trouser, alpha = 0.3)\n",
    "plt.hist(concatenated_tshirt, alpha = 0.3)\n",
    "plt.legend(['Shirt', 'Dress', 'Pull Over', 'Trouser', 'T-shirt'])\n",
    "plt.xlabel('Pixel Intensity')\n",
    "plt.ylabel('Frequency')\n",
    "plt.title('Pixel Intensity Distribution of Fashion MNIST Classes')\n",
    "#add mu lines\n",
    "plt.axvline(mu0_tshirts, color='purple', linestyle='dashed', linewidth=1)\n",
    "plt.axvline(mu1_trousers, color='red', linestyle='dashed', linewidth=1)\n",
    "plt.axvline(mu2_pull_over, color='green', linestyle='dashed', linewidth=1)\n",
    "plt.axvline(mu3_dress, color='orange', linestyle='dashed', linewidth=1)\n",
    "plt.axvline(mu4_shirt, color='blue', linestyle='dashed', linewidth=1)\n",
    "\n",
    "#separate the histograms better\n",
    "plt.tight_layout()\n",
    "\n",
    "\n",
    "plt.show()\n",
    "#print(np.mean(t_shirt_list))\n",
    "#plot in histogram\n",
    "\n",
    "#get SW (within class scatter matrix)\n",
    "#get S0, S1, S2, S3, S4\n",
    "#do it with a for lopo\n",
    "\n",
    "temp_t_list = []\n",
    "\n",
    "for i in range(len(t_shirt_list)):\n",
    "    temp_t_list.append(t_shirt_list[i] - mu0_tshirts)\n",
    "\n",
    "print(temp_t_list)\n",
    "    #S0 = np.dot((t_shirt_list[i] - mu0_tshirts), (t_shirt_list[i] - mu0_tshirts).T)\n",
    "\n",
    "#for i in range(len(trouser_list)):\n",
    " #   S1 = np.dot((trouser_list[i] - mu1_trousers), (trouser_list[i] - mu1_trousers).T)\n",
    "#for i in range(len(pull_over_list)):\n",
    " #   S2 = np.dot((pull_over_list[i] - mu2_pull_over), (pull_over_list[i] - mu2_pull_over).T)\n",
    "#for i in range(len(dress_list)):\n",
    " #   S3 = np.dot((dress_list[i] - mu3_dress), (dress_list[i] - mu3_dress).T)\n",
    "#for i in range(len(shirt_list)):\n",
    " #   S4 = np.dot((shirt_list[i] - mu4_shirt), (shirt_list[i] - mu4_shirt).T)\n",
    "#print(S0)\n",
    "\n"
   ]
  },
  {
   "cell_type": "code",
   "execution_count": 76,
   "outputs": [
    {
     "ename": "TypeError",
     "evalue": "'list' object cannot be interpreted as an integer",
     "output_type": "error",
     "traceback": [
      "\u001B[1;31m---------------------------------------------------------------------------\u001B[0m",
      "\u001B[1;31mTypeError\u001B[0m                                 Traceback (most recent call last)",
      "Input \u001B[1;32mIn [76]\u001B[0m, in \u001B[0;36m<cell line: 2>\u001B[1;34m()\u001B[0m\n\u001B[0;32m      1\u001B[0m temp_t_list \u001B[38;5;241m=\u001B[39m []\n\u001B[1;32m----> 2\u001B[0m \u001B[38;5;28;01mfor\u001B[39;00m i \u001B[38;5;129;01min\u001B[39;00m \u001B[38;5;28;43mrange\u001B[39;49m\u001B[43m(\u001B[49m\u001B[43mt_shirt_list\u001B[49m\u001B[43m)\u001B[49m:\n\u001B[0;32m      3\u001B[0m     temp_t_list\u001B[38;5;241m.\u001B[39mappend(t_shirt_list[i] \u001B[38;5;241m-\u001B[39m mu0_tshirts)\n\u001B[0;32m      5\u001B[0m \u001B[38;5;28mprint\u001B[39m(temp_t_list)\n",
      "\u001B[1;31mTypeError\u001B[0m: 'list' object cannot be interpreted as an integer"
     ]
    }
   ],
   "source": [
    "temp_t_list = []\n",
    "for i in range(len(t_shirt_list)):\n",
    "    temp_t_list.append(t_shirt_list[i] - mu0_tshirts)\n",
    "\n",
    "print(temp_t_list)"
   ],
   "metadata": {
    "collapsed": false
   }
  },
  {
   "cell_type": "code",
   "execution_count": null,
   "outputs": [],
   "source": [],
   "metadata": {
    "collapsed": false
   }
  }
 ],
 "metadata": {
  "kernelspec": {
   "display_name": "Python 3",
   "language": "python",
   "name": "python3"
  },
  "language_info": {
   "codemirror_mode": {
    "name": "ipython",
    "version": 3
   },
   "file_extension": ".py",
   "mimetype": "text/x-python",
   "name": "python",
   "nbconvert_exporter": "python",
   "pygments_lexer": "ipython3",
   "version": "3.10.9"
  }
 },
 "nbformat": 4,
 "nbformat_minor": 2
}
