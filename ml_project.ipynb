{
 "cells": [
  {
   "cell_type": "code",
   "execution_count": 2,
   "metadata": {},
   "outputs": [],
   "source": [
    "import numpy as np\n",
    "import pandas as pd"
   ]
  },
  {
   "cell_type": "code",
   "execution_count": 13,
   "metadata": {},
   "outputs": [
    {
     "name": "stdout",
     "output_type": "stream",
     "text": [
      "[[0 0 0 ... 0 0 0]\n",
      " [0 0 0 ... 0 0 1]\n",
      " [0 0 0 ... 0 0 0]\n",
      " ...\n",
      " [0 0 0 ... 0 0 3]\n",
      " [0 0 0 ... 0 0 0]\n",
      " [0 0 0 ... 0 0 1]]\n"
     ]
    }
   ],
   "source": [
    "# Specify the path to your .npy file\n",
    "train_file_path = 'fashion_train.npy'\n",
    "test_file_path = 'fashion_test.npy'\n",
    "\n",
    "# Load the data from the .npy file\n",
    "data = np.load(train_file_path)\n",
    "test_data = np.load(test_file_path)\n",
    "print(data)"
   ]
  },
  {
   "cell_type": "code",
   "execution_count": 16,
   "metadata": {},
   "outputs": [
    {
     "name": "stdout",
     "output_type": "stream",
     "text": [
      "   0    1    2    3    4    5    6    7    8    9    ...  775  776  777  778  \\\n",
      "0    0    0    0    0    0    3    0    0    0   41  ...   63   78   11    0   \n",
      "1    0    0    0    0    0    0    0    0    0    0  ...   32    0    0    0   \n",
      "2    0    0    0    0    0    1    1    0    0    0  ...  168  119    0    0   \n",
      "3    0    0    0    0    0    0    0    0    0   98  ...   21    0    0    0   \n",
      "4    0    0    0    0    0    0    0    2    0    0  ...   88  128   46    0   \n",
      "\n",
      "   779  780  781  782  783  784  \n",
      "0    2    0    0    0    0    0  \n",
      "1    0    0    0    0    0    1  \n",
      "2    0    0    0    0    0    0  \n",
      "3    0    0    0    0    0    3  \n",
      "4    0    0    0    0    0    4  \n",
      "\n",
      "[5 rows x 785 columns]\n"
     ]
    }
   ],
   "source": [
    "#convert it to a dataframe\n",
    "df = pd.DataFrame(data)\n",
    "test_df = pd.DataFrame(test_data)\n",
    "# print the first 5 items\n",
    "print(df.head())"
   ]
  },
  {
   "cell_type": "code",
   "execution_count": 17,
   "metadata": {},
   "outputs": [
    {
     "name": "stdout",
     "output_type": "stream",
     "text": [
      "10000\n"
     ]
    }
   ],
   "source": [
    "# get the number of rows\n",
    "num_rows = df.shape[0]\n",
    "print(num_rows)"
   ]
  },
  {
   "cell_type": "code",
   "execution_count": 18,
   "metadata": {},
   "outputs": [],
   "source": [
    "# Extract the last column\n",
    "last_column = data[:, -1]  "
   ]
  },
  {
   "cell_type": "code",
   "execution_count": 19,
   "metadata": {},
   "outputs": [
    {
     "name": "stdout",
     "output_type": "stream",
     "text": [
      "Count of 0s: 2033\n",
      "Count of 1s: 1947\n",
      "Count of 2s: 2001\n",
      "Count of 3s: 2005\n",
      "Count of 4s: 2014\n"
     ]
    }
   ],
   "source": [
    "# Initialize counts\n",
    "count_0_tshirt = 0\n",
    "count_1_trousers = 0\n",
    "count_2_pull_over = 0\n",
    "count_3_dress = 0\n",
    "count_4_shirt = 0\n",
    "\n",
    "\n",
    "# Loop through the last column\n",
    "for value in last_column:\n",
    "    if value == 0:\n",
    "        count_0_tshirt += 1\n",
    "    elif value == 1:\n",
    "        count_1_trousers += 1\n",
    "    elif value == 2:\n",
    "        count_2_pull_over += 1\n",
    "    elif value == 3:\n",
    "        count_3_dress += 1\n",
    "    elif value == 4:\n",
    "        count_4_shirt += 1\n",
    "\n",
    "# Display the counts\n",
    "print(\"Count of 0s:\", count_0_tshirt)\n",
    "print(\"Count of 1s:\", count_1_trousers)\n",
    "print(\"Count of 2s:\", count_2_pull_over)\n",
    "print(\"Count of 3s:\", count_3_dress)\n",
    "print(\"Count of 4s:\", count_4_shirt)"
   ]
  },
  {
   "cell_type": "code",
   "execution_count": 20,
   "metadata": {},
   "outputs": [
    {
     "name": "stdout",
     "output_type": "stream",
     "text": [
      " P(T-shirt) = 0.2033\n",
      " P(Trousers) = 0.1947\n",
      " P(Pull Over) = 0.2001\n",
      " P(Dress) = 0.2005\n",
      " P(Shirt) = 0.2014\n"
     ]
    }
   ],
   "source": [
    "# Get the simple probabilities\n",
    "\n",
    "\n",
    "P_tshirt = count_0_tshirt / num_rows\n",
    "P_trouser = count_1_trousers / num_rows\n",
    "P_pull_over = count_2_pull_over/ num_rows\n",
    "P_dress = count_3_dress / num_rows\n",
    "P_shirt = count_4_shirt / num_rows\n",
    "\n",
    "print(f\" P(T-shirt) = {P_tshirt}\")\n",
    "print(f\" P(Trousers) = {P_trouser}\")\n",
    "print(f\" P(Pull Over) = {P_pull_over}\")\n",
    "print(f\" P(Dress) = {P_dress}\")\n",
    "print(f\" P(Shirt) = {P_shirt}\")"
   ]
  },
  {
   "cell_type": "code",
   "execution_count": 24,
   "metadata": {},
   "outputs": [
    {
     "ename": "KeyError",
     "evalue": "False",
     "output_type": "error",
     "traceback": [
      "\u001b[0;31m---------------------------------------------------------------------------\u001b[0m",
      "\u001b[0;31mKeyError\u001b[0m                                  Traceback (most recent call last)",
      "\u001b[1;32m/Users/mtrpenovska/Desktop/clasifying-clothing-types-/ml_project.ipynb Cell 8\u001b[0m line \u001b[0;36m8\n\u001b[1;32m      <a href='vscode-notebook-cell:/Users/mtrpenovska/Desktop/clasifying-clothing-types-/ml_project.ipynb#X10sZmlsZQ%3D%3D?line=4'>5</a>\u001b[0m y \u001b[39m=\u001b[39m [\u001b[39m0\u001b[39m, \u001b[39m1\u001b[39m, \u001b[39m2\u001b[39m, \u001b[39m3\u001b[39m, \u001b[39m4\u001b[39m] \u001b[39m# Replace this with your actual labels\u001b[39;00m\n\u001b[1;32m      <a href='vscode-notebook-cell:/Users/mtrpenovska/Desktop/clasifying-clothing-types-/ml_project.ipynb#X10sZmlsZQ%3D%3D?line=6'>7</a>\u001b[0m \u001b[39m# Split the data into four classes\u001b[39;00m\n\u001b[0;32m----> <a href='vscode-notebook-cell:/Users/mtrpenovska/Desktop/clasifying-clothing-types-/ml_project.ipynb#X10sZmlsZQ%3D%3D?line=7'>8</a>\u001b[0m class_0_data \u001b[39m=\u001b[39m X[y \u001b[39m==\u001b[39;49m \u001b[39m0\u001b[39;49m]\n\u001b[1;32m      <a href='vscode-notebook-cell:/Users/mtrpenovska/Desktop/clasifying-clothing-types-/ml_project.ipynb#X10sZmlsZQ%3D%3D?line=8'>9</a>\u001b[0m class_1_data \u001b[39m=\u001b[39m X[y \u001b[39m==\u001b[39m \u001b[39m1\u001b[39m]\n\u001b[1;32m     <a href='vscode-notebook-cell:/Users/mtrpenovska/Desktop/clasifying-clothing-types-/ml_project.ipynb#X10sZmlsZQ%3D%3D?line=9'>10</a>\u001b[0m class_2_data \u001b[39m=\u001b[39m X[y \u001b[39m==\u001b[39m \u001b[39m2\u001b[39m]\n",
      "File \u001b[0;32m~/anaconda3/lib/python3.10/site-packages/pandas/core/frame.py:3807\u001b[0m, in \u001b[0;36mDataFrame.__getitem__\u001b[0;34m(self, key)\u001b[0m\n\u001b[1;32m   3805\u001b[0m \u001b[39mif\u001b[39;00m \u001b[39mself\u001b[39m\u001b[39m.\u001b[39mcolumns\u001b[39m.\u001b[39mnlevels \u001b[39m>\u001b[39m \u001b[39m1\u001b[39m:\n\u001b[1;32m   3806\u001b[0m     \u001b[39mreturn\u001b[39;00m \u001b[39mself\u001b[39m\u001b[39m.\u001b[39m_getitem_multilevel(key)\n\u001b[0;32m-> 3807\u001b[0m indexer \u001b[39m=\u001b[39m \u001b[39mself\u001b[39;49m\u001b[39m.\u001b[39;49mcolumns\u001b[39m.\u001b[39;49mget_loc(key)\n\u001b[1;32m   3808\u001b[0m \u001b[39mif\u001b[39;00m is_integer(indexer):\n\u001b[1;32m   3809\u001b[0m     indexer \u001b[39m=\u001b[39m [indexer]\n",
      "File \u001b[0;32m~/anaconda3/lib/python3.10/site-packages/pandas/core/indexes/range.py:395\u001b[0m, in \u001b[0;36mRangeIndex.get_loc\u001b[0;34m(self, key, method, tolerance)\u001b[0m\n\u001b[1;32m    393\u001b[0m             \u001b[39mraise\u001b[39;00m \u001b[39mKeyError\u001b[39;00m(key) \u001b[39mfrom\u001b[39;00m \u001b[39merr\u001b[39;00m\n\u001b[1;32m    394\u001b[0m     \u001b[39mself\u001b[39m\u001b[39m.\u001b[39m_check_indexing_error(key)\n\u001b[0;32m--> 395\u001b[0m     \u001b[39mraise\u001b[39;00m \u001b[39mKeyError\u001b[39;00m(key)\n\u001b[1;32m    396\u001b[0m \u001b[39mreturn\u001b[39;00m \u001b[39msuper\u001b[39m()\u001b[39m.\u001b[39mget_loc(key, method\u001b[39m=\u001b[39mmethod, tolerance\u001b[39m=\u001b[39mtolerance)\n",
      "\u001b[0;31mKeyError\u001b[0m: False"
     ]
    }
   ],
   "source": [
    "import numpy as np\n",
    "import matplotlib.pyplot as plt\n",
    "\n",
    "X = df # Replace this with your actual data\n",
    "y = [0, 1, 2, 3, 4] # Replace this with your actual labels\n",
    "\n",
    "# Split the data into four classes\n",
    "class_0_data = X[y == 0][]\n",
    "class_1_data = X[y == 1]\n",
    "class_2_data = X[y == 2]\n",
    "class_3_data = X[y == 3]\n",
    "class_4_data = X[y == 4]\n",
    "\n",
    "class_0_data = df[df['label'] == 0].iloc[:, :-1]\n",
    "class_1_data = df[df['label'] == 1].iloc[:, :-1]\n",
    "class_2_data = df[df['label'] == 2].iloc[:, :-1]\n",
    "class_3_data = df[df['label'] == 3].iloc[:, :-1]\n",
    "class_4_data = df[df['label'] == 4].iloc[:, :-1]\n",
    "\n",
    "# Define the Gaussian kernel function\n",
    "def gaussian_kernel(u):\n",
    "    return (1 / np.sqrt(2 * np.pi)) * np.exp(-0.5 * u**2)\n",
    "\n",
    "# Define the kernel density estimation function\n",
    "def kernel_density_estimate(x, data, bandwidth=1.0, kernel=gaussian_kernel):\n",
    "    n = len(data)\n",
    "    total = 0\n",
    "    for xi in data:\n",
    "        u = (x - xi) / bandwidth\n",
    "        total += kernel(u)\n",
    "    return total / (n * bandwidth)\n",
    "\n",
    "# Function to predict class using Naive Bayes classifier\n",
    "def naive_bayes_predict(x, class_0_data, class_1_data):\n",
    "    p_class_0 = kernel_density_estimate(x, class_0_data[:, 0]) * kernel_density_estimate(x, class_0_data[:, 1])\n",
    "    p_class_1 = kernel_density_estimate(x, class_1_data[:, 0]) * kernel_density_estimate(x, class_1_data[:, 1])\n",
    "    p_class_2 = kernel_density_estimate(x, class_2_data[:, 0]) * kernel_density_estimate(x, class_2_data[:, 1])\n",
    "    p_class_3 = kernel_density_estimate(x, class_3_data[:, 0]) * kernel_density_estimate(x, class_3_data[:, 1])\n",
    "    p_class_4 = kernel_density_estimate(x, class_4_data[:, 0]) * kernel_density_estimate(x, class_4_data[:, 1])\n",
    "\n",
    "    # Assume equal prior probabilities for all classes\n",
    "    p_class_0 /= (p_class_0 + p_class_1 + p_class_2 + p_class_3 + p_class_4)\n",
    "    p_class_1 /= (p_class_0 + p_class_1 + p_class_2 + p_class_3 + p_class_4)\n",
    "    p_class_2 /= (p_class_0 + p_class_1 + p_class_2 + p_class_3 + p_class_4)\n",
    "    p_class_3 /= (p_class_0 + p_class_1 + p_class_2 + p_class_3 + p_class_4)\n",
    "    p_class_4 /= (p_class_0 + p_class_1 + p_class_2 + p_class_3 + p_class_4)\n",
    "\n",
    "    return np.argmax([p_class_0, p_class_1, p_class_2, p_class_3, p_class_4])\n",
    "\n",
    "# Make predictions on the test set\n",
    "X_test = test_data  # Replace this with your actual test data\n",
    "y_pred = np.array([naive_bayes_predict(x, class_0_data, class_1_data, class_2_data, class_3_data, class_4_data) for x in X_test])\n",
    "\n",
    "# Plot the results\n",
    "plt.scatter(class_0_data[:, 0], class_0_data[:, 1], label='Class 0')\n",
    "plt.scatter(class_1_data[:, 0], class_1_data[:, 1], label='Class 1')\n",
    "plt.scatter(class_2_data[:, 0], class_2_data[:, 1], label='Class 2')\n",
    "plt.scatter(class_3_data[:, 0], class_3_data[:, 1], label='Class 3')\n",
    "plt.scatter(class_4_data[:, 0], class_4_data[:, 1], label='Class 4')\n",
    "plt.scatter(X_test[:, 0], X_test[:, 1], marker='x', label='Test Data', c=y_pred, cmap='viridis')\n",
    "plt.legend()\n",
    "plt.show()\n"
   ]
  }
 ],
 "metadata": {
  "kernelspec": {
   "display_name": "Python 3",
   "language": "python",
   "name": "python3"
  },
  "language_info": {
   "codemirror_mode": {
    "name": "ipython",
    "version": 3
   },
   "file_extension": ".py",
   "mimetype": "text/x-python",
   "name": "python",
   "nbconvert_exporter": "python",
   "pygments_lexer": "ipython3",
   "version": "3.10.9"
  }
 },
 "nbformat": 4,
 "nbformat_minor": 2
}
