{
 "cells": [
  {
   "cell_type": "code",
   "execution_count": 4,
   "metadata": {},
   "outputs": [],
   "source": [
    "import numpy as np\n",
    "import pandas as pd"
   ]
  },
  {
   "cell_type": "code",
   "execution_count": 3,
   "metadata": {},
   "outputs": [
    {
     "name": "stdout",
     "output_type": "stream",
     "text": [
      "[[0 0 0 ... 0 0 0]\n",
      " [0 0 0 ... 0 0 1]\n",
      " [0 0 0 ... 0 0 0]\n",
      " ...\n",
      " [0 0 0 ... 0 0 3]\n",
      " [0 0 0 ... 0 0 0]\n",
      " [0 0 0 ... 0 0 1]]\n"
     ]
    }
   ],
   "source": [
    "# Specify the path to your .npy file\n",
    "file_path = 'fashion_train.npy'\n",
    "\n",
    "# Load the data from the .npy file\n",
    "data = np.load(file_path)\n",
    "print(data)"
   ]
  },
  {
   "cell_type": "code",
   "execution_count": 30,
   "metadata": {},
   "outputs": [
    {
     "name": "stdout",
     "output_type": "stream",
     "text": [
      "   0    1    2    3    4    5    6    7    8    9    ...  775  776  777  778  \\\n",
      "0    0    0    0    0    0    3    0    0    0   41  ...   63   78   11    0   \n",
      "1    0    0    0    0    0    0    0    0    0    0  ...   32    0    0    0   \n",
      "2    0    0    0    0    0    1    1    0    0    0  ...  168  119    0    0   \n",
      "3    0    0    0    0    0    0    0    0    0   98  ...   21    0    0    0   \n",
      "4    0    0    0    0    0    0    0    2    0    0  ...   88  128   46    0   \n",
      "\n",
      "   779  780  781  782  783  784  \n",
      "0    2    0    0    0    0    0  \n",
      "1    0    0    0    0    0    1  \n",
      "2    0    0    0    0    0    0  \n",
      "3    0    0    0    0    0    3  \n",
      "4    0    0    0    0    0    4  \n",
      "\n",
      "[5 rows x 785 columns]\n"
     ]
    }
   ],
   "source": [
    "#convert it to a dataframe\n",
    "df = pd.DataFrame(data)\n",
    "# print the first 5 items\n",
    "print(df.head())"
   ]
  },
  {
   "cell_type": "code",
   "execution_count": 31,
   "metadata": {},
   "outputs": [
    {
     "name": "stdout",
     "output_type": "stream",
     "text": [
      "10000\n"
     ]
    }
   ],
   "source": [
    "# get the number of rows\n",
    "num_rows = df.shape[0]\n",
    "print(num_rows)"
   ]
  },
  {
   "cell_type": "code",
   "execution_count": 32,
   "metadata": {},
   "outputs": [],
   "source": [
    "# Extract the last column\n",
    "last_column = data[:, -1]  "
   ]
  },
  {
   "cell_type": "code",
   "execution_count": 33,
   "metadata": {},
   "outputs": [
    {
     "name": "stdout",
     "output_type": "stream",
     "text": [
      "Count of 0s: 2033\n",
      "Count of 1s: 1947\n",
      "Count of 2s: 2001\n",
      "Count of 3s: 2005\n",
      "Count of 4s: 2014\n"
     ]
    }
   ],
   "source": [
    "# Initialize counts\n",
    "count_0_tshirt = 0\n",
    "count_1_trousers = 0\n",
    "count_2_pull_over = 0\n",
    "count_3_dress = 0\n",
    "count_4_shirt = 0\n",
    "\n",
    "\n",
    "# Loop through the last column\n",
    "for value in last_column:\n",
    "    if value == 0:\n",
    "        count_0_tshirt += 1\n",
    "    elif value == 1:\n",
    "        count_1_trousers += 1\n",
    "    elif value == 2:\n",
    "        count_2_pull_over += 1\n",
    "    elif value == 3:\n",
    "        count_3_dress += 1\n",
    "    elif value == 4:\n",
    "        count_4_shirt += 1\n",
    "\n",
    "# Display the counts\n",
    "print(\"Count of 0s:\", count_0)\n",
    "print(\"Count of 1s:\", count_1)\n",
    "print(\"Count of 2s:\", count_2)\n",
    "print(\"Count of 3s:\", count_3)\n",
    "print(\"Count of 4s:\", count_4)"
   ]
  },
  {
   "cell_type": "code",
   "execution_count": 35,
   "metadata": {},
   "outputs": [
    {
     "name": "stdout",
     "output_type": "stream",
     "text": [
      " P(T-shirt) = 0.2033\n",
      " P(Trousers) = 0.1947\n",
      " P(Pull Over) = 0.2001\n",
      " P(Dress) = 0.2005\n",
      " P(Shirt) = 0.2014\n"
     ]
    }
   ],
   "source": [
    "# Get the simple probabilities\n",
    "\n",
    "\n",
    "P_tshirt = count_0_tshirt / num_rows\n",
    "P_trouser = count_1_trousers / num_rows\n",
    "P_pull_over = count_2_pull_over/ num_rows\n",
    "P_dress = count_3_dress / num_rows\n",
    "P_shirt = count_4_shirt / num_rows\n",
    "\n",
    "print(f\" P(T-shirt) = {P_tshirt}\")\n",
    "print(f\" P(Trousers) = {P_trouser}\")\n",
    "print(f\" P(Pull Over) = {P_pull_over}\")\n",
    "print(f\" P(Dress) = {P_dress}\")\n",
    "print(f\" P(Shirt) = {P_shirt}\")"
   ]
  },
  {
   "cell_type": "code",
   "execution_count": null,
   "metadata": {},
   "outputs": [],
   "source": []
  }
 ],
 "metadata": {
  "kernelspec": {
   "display_name": "Python 3",
   "language": "python",
   "name": "python3"
  },
  "language_info": {
   "codemirror_mode": {
    "name": "ipython",
    "version": 3
   },
   "file_extension": ".py",
   "mimetype": "text/x-python",
   "name": "python",
   "nbconvert_exporter": "python",
   "pygments_lexer": "ipython3",
   "version": "3.11.4"
  }
 },
 "nbformat": 4,
 "nbformat_minor": 2
}
