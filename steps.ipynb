{
 "cells": [
  {
   "cell_type": "code",
   "execution_count": null,
   "metadata": {
    "collapsed": true
   },
   "outputs": [],
   "source": []
  },
  {
   "cell_type": "markdown",
   "source": [
    "Step 1: Compute Mu0, Mu1, Mu2, Mu, Mu4 and the within class scatter matrix SW\n",
    "SW = So + S1 + S2 0 + S3 + S4\n",
    "S0 = sum(Xi-mu0)*(Xi-mu0)^T\n",
    "S1 = sum(Xi-mu1)*(Xi-mu1)^T\n",
    "S2 = sum(Xi-mu2)*(Xi-mu2)^T\n",
    "S3 = sum(Xi-mu3)*(Xi-mu3)^T\n",
    "S4 = sum(Xi-mu4)*(Xi-mu4)^T\n",
    "\n",
    "Step 2: compute the between class scatter matrix SB\n",
    "m = 1/k * sum(k) = 1/5 * (mu0 + mu1 + mu2 + mu3 + mu4)\n",
    "SB = N0 (mu0 - m)(mu0 - m)^T + N1 (mu1 - m)(mu1 - m)^T + N2 (mu2 - m)(mu2 - m)^T + N3 (mu3 - m)(mu3 - m)^T + N4 (mu4 - m)(mu4 - m)^T\n",
    "\n",
    "step 3: find the LDA projection vector\n",
    "S^-1W SB = V D V^T\n"
   ],
   "metadata": {
    "collapsed": false
   }
  }
 ],
 "metadata": {
  "kernelspec": {
   "display_name": "Python 3",
   "language": "python",
   "name": "python3"
  },
  "language_info": {
   "codemirror_mode": {
    "name": "ipython",
    "version": 2
   },
   "file_extension": ".py",
   "mimetype": "text/x-python",
   "name": "python",
   "nbconvert_exporter": "python",
   "pygments_lexer": "ipython2",
   "version": "2.7.6"
  }
 },
 "nbformat": 4,
 "nbformat_minor": 0
}
