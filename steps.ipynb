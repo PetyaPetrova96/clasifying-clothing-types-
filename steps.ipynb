{
 "cells": [
  {
   "cell_type": "markdown",
   "metadata": {
    "collapsed": false
   },
   "source": [
    "# Analysis Steps\n",
    "\n",
    "## 1. Exploratory Data Analysis (EDA)\n",
    "\n",
    "## 2. LDA Projection\n",
    "\n",
    "### 2.1. Compute Mu and Within-Class Scatter Matrix (SW)\n",
    "\n",
    "SW = S0 + S1 + S2 + S3 + S4\n",
    "S0-S4 = Σ(Xi - μi)(Xi - μi)^T\n",
    "\n",
    "### 2.2. Compute Between-Class Scatter Matrix (SB)\n",
    "\n",
    "m = 1/k * Σ(k) = 1/5 * Σ(μi)\n",
    "SB = Σ(Ni (μi - m)(μi - m)^T)\n",
    "\n",
    "### 2.3. Find LDA Projection Vector\n",
    "\n",
    "S⁻¹W SB = V D V^T\n",
    "\n",
    "## 3. Implement Naive Bayes\n",
    "\n",
    "### 3.1. Get Simple Probabilities\n",
    "\n",
    "### 3.2.\n",
    "\n",
    "### 3.3.\n",
    "\n"
   ]
  },
  {
   "cell_type": "code",
   "execution_count": 36,
   "metadata": {},
   "outputs": [],
   "source": [
    "import matplotlib.pyplot as plt\n",
    "import numpy as np\n",
    "import pandas as pd\n"
   ]
  },
  {
   "cell_type": "markdown",
   "metadata": {},
   "source": [
    "## Step 1 : Explore the data , EDA"
   ]
  },
  {
   "cell_type": "code",
   "execution_count": 37,
   "metadata": {},
   "outputs": [
    {
     "name": "stdout",
     "output_type": "stream",
     "text": [
      "[[0 0 0 ... 0 0 0]\n",
      " [0 0 0 ... 0 0 1]\n",
      " [0 0 0 ... 0 0 0]\n",
      " ...\n",
      " [0 0 0 ... 0 0 3]\n",
      " [0 0 0 ... 0 0 0]\n",
      " [0 0 0 ... 0 0 1]]\n"
     ]
    }
   ],
   "source": [
    "# Specifying the path to your .npy file\n",
    "train_file_path = 'fashion_train.npy'\n",
    "test_file_path = 'fashion_test.npy'\n",
    "\n",
    "# Load the data from the .npy file\n",
    "train_data = np.load(train_file_path)\n",
    "test_data = np.load(test_file_path)\n",
    "print(train_data)"
   ]
  },
  {
   "cell_type": "code",
   "execution_count": 38,
   "metadata": {},
   "outputs": [
    {
     "name": "stdout",
     "output_type": "stream",
     "text": [
      "   0    1    2    3    4    5    6    7    8    9    ...  775  776  777  778  \\\n",
      "0    0    0    0    0    0    3    0    0    0   41  ...   63   78   11    0   \n",
      "1    0    0    0    0    0    0    0    0    0    0  ...   32    0    0    0   \n",
      "2    0    0    0    0    0    1    1    0    0    0  ...  168  119    0    0   \n",
      "3    0    0    0    0    0    0    0    0    0   98  ...   21    0    0    0   \n",
      "4    0    0    0    0    0    0    0    2    0    0  ...   88  128   46    0   \n",
      "\n",
      "   779  780  781  782  783  784  \n",
      "0    2    0    0    0    0    0  \n",
      "1    0    0    0    0    0    1  \n",
      "2    0    0    0    0    0    0  \n",
      "3    0    0    0    0    0    3  \n",
      "4    0    0    0    0    0    4  \n",
      "\n",
      "[5 rows x 785 columns]\n"
     ]
    }
   ],
   "source": [
    "#convert it to a dataframe\n",
    "train_df = pd.DataFrame(train_data)\n",
    "test_df = pd.DataFrame(test_data)\n",
    "# print the first 5 items\n",
    "print(train_df.head())"
   ]
  },
  {
   "cell_type": "markdown",
   "metadata": {},
   "source": [
    "### Plot their means"
   ]
  },
  {
   "cell_type": "code",
   "execution_count": 39,
   "metadata": {},
   "outputs": [
    {
     "data": {
      "text/plain": "<matplotlib.lines.Line2D at 0x216d3594b80>"
     },
     "execution_count": 39,
     "metadata": {},
     "output_type": "execute_result"
    },
    {
     "data": {
      "text/plain": "<Figure size 432x288 with 1 Axes>",
      "image/png": "[encoded data removed]"
     },
     "metadata": {
      "needs_background": "light"
     },
     "output_type": "display_data"
    }
   ],
   "source": [
    "#get list of\n",
    "t_shirt_list = []\n",
    "trouser_list = []\n",
    "pull_over_list = []\n",
    "dress_list = []\n",
    "shirt_list = []\n",
    "\n",
    "#create subset of data with the different classes\n",
    "for i in range(len(train_data)):\n",
    "    if train_data[i][-1] == 0:\n",
    "        t_shirt_list.append(train_data[i])\n",
    "    elif train_data[i][-1] == 1:\n",
    "        trouser_list.append(train_data[i])\n",
    "    elif train_data[i][-1] == 2:\n",
    "        pull_over_list.append(train_data[i])\n",
    "    elif train_data[i][-1] == 3:\n",
    "        dress_list.append(train_data[i])\n",
    "    elif train_data[i][-1] == 4:\n",
    "        shirt_list.append(train_data[i])\n",
    "\n",
    "mu0_tshirts = np.mean(t_shirt_list)\n",
    "mu1_trousers = np.mean(trouser_list)\n",
    "mu2_pull_over = np.mean(pull_over_list)\n",
    "mu3_dress = np.mean(dress_list)\n",
    "mu4_shirt = np.mean(shirt_list)\n",
    "concatenated_tshirt = np.concatenate(t_shirt_list)\n",
    "concatenated_trouser = np.concatenate(trouser_list)\n",
    "concatenated_pull_over = np.concatenate(pull_over_list)\n",
    "concatenated_dress = np.concatenate(dress_list)\n",
    "concatenated_shirt = np.concatenate(shirt_list)\n",
    "\n",
    "#plot all the histograms on top of eachother\n",
    "#plt.hist(concatenated_shirt)\n",
    "#plt.hist(concatenated_dress)\n",
    "#plt.hist(concatenated_pull_over)\n",
    "#plt.hist(concatenated_trouser)\n",
    "#plt.hist(concatenated_tshirt)\n",
    "#add transparency\n",
    "plt.hist(concatenated_shirt, alpha = 0.3)\n",
    "plt.hist(concatenated_dress, alpha = 0.3)\n",
    "plt.hist(concatenated_pull_over, alpha = 0.3)\n",
    "plt.hist(concatenated_trouser, alpha = 0.3)\n",
    "plt.hist(concatenated_tshirt, alpha = 0.3)\n",
    "plt.legend(['Shirt', 'Dress', 'Pull Over', 'Trouser', 'T-shirt'])\n",
    "plt.xlabel('Pixel Intensity')\n",
    "plt.ylabel('Frequency')\n",
    "plt.title('Pixel Intensity Distribution of Fashion MNIST Classes')\n",
    "#add mu lines\n",
    "plt.axvline(mu0_tshirts, color='purple', linestyle='dashed', linewidth=1)\n",
    "plt.axvline(mu1_trousers, color='red', linestyle='dashed', linewidth=1)\n",
    "plt.axvline(mu2_pull_over, color='green', linestyle='dashed', linewidth=1)\n",
    "plt.axvline(mu3_dress, color='orange', linestyle='dashed', linewidth=1)\n",
    "plt.axvline(mu4_shirt, color='blue', linestyle='dashed', linewidth=1)"
   ]
  },
  {
   "cell_type": "markdown",
   "metadata": {},
   "source": [
    "## Step 2: LDA"
   ]
  },
  {
   "cell_type": "markdown",
   "metadata": {},
   "source": [
    "## 2.1. Compute Mu and Within-Class Scatter Matrix (SW)\n",
    "\n",
    "SW = S0 + S1 + S2 + S3 + S4\n",
    "S0-S4 = Σ(Xi - μi)(Xi - μi)^T"
   ]
  },
  {
   "cell_type": "code",
   "execution_count": 40,
   "metadata": {},
   "outputs": [],
   "source": [
    "# Get the data withouth the lables and only get the lables\n",
    "x = train_data[:, :-1]\n",
    "y = train_data[:, -1]"
   ]
  },
  {
   "cell_type": "code",
   "execution_count": 41,
   "metadata": {},
   "outputs": [],
   "source": [
    "# Get the classes \n",
    "\n",
    "class_tshirt = train_data[train_data[:,-1]==0]\n",
    "class_tshirt = class_tshirt[:,:-1]\n",
    "\n",
    "\n",
    "class_trouser = train_data[train_data[:,-1]==1]\n",
    "class_trouser = class_trouser[:,:-1]\n",
    "\n",
    "class_pullover = train_data[train_data[:,-1]==2]\n",
    "class_pullover = class_pullover[:,:-1]\n",
    "\n",
    "class_dress = train_data[train_data[:,-1]==3]\n",
    "class_dress = class_dress[:,:-1]\n",
    "\n",
    "\n",
    "class_shirt = train_data[train_data[:,-1]==4]\n",
    "class_shirt = class_shirt[:,:-1]"
   ]
  },
  {
   "cell_type": "code",
   "execution_count": 42,
   "metadata": {},
   "outputs": [],
   "source": [
    "# Calculate the mean of each class\n",
    "mean_tshirt = np.mean(class_tshirt,axis = 0)\n",
    "mean_trouser = np.mean(class_trouser,axis = 0)\n",
    "mean_pullover = np.mean(class_pullover,axis = 0)\n",
    "mean_dress = np.mean(class_dress,axis = 0)\n",
    "mean_shirt = np.mean(class_shirt,axis =0)\n"
   ]
  },
  {
   "cell_type": "code",
   "execution_count": 43,
   "metadata": {},
   "outputs": [],
   "source": [
    "# Get the scatter matrix for each class (S_0, S_1, S_2, S_3, S_4)\n",
    "scatter_tshirt = np.cov(class_tshirt.T)\n",
    "scatter_trouser = np.cov(class_trouser.T)\n",
    "scatter_pullover = np.cov(class_pullover.T)\n",
    "scatter_dress = np.cov(class_dress.T)\n",
    "scatter_shirt = np.cov(class_shirt.T)\n"
   ]
  },
  {
   "cell_type": "code",
   "execution_count": 44,
   "metadata": {},
   "outputs": [],
   "source": [
    "# Calculating S_w -> scatter matrix\n",
    "S_w = scatter_tshirt + scatter_trouser + scatter_pullover + scatter_dress + scatter_shirt\n"
   ]
  },
  {
   "cell_type": "markdown",
   "metadata": {},
   "source": [
    "## 2.1 Get the betweeness scatter matrix Sb\n",
    "m = 1/k * Σ(k) = 1/5 * Σ(μi)\n",
    "SB = Σ(Ni (μi - m)(μi - m)^T)"
   ]
  },
  {
   "cell_type": "code",
   "execution_count": 45,
   "metadata": {},
   "outputs": [
    {
     "name": "stdout",
     "output_type": "stream",
     "text": [
      " This is m [2.58163397e-03 8.81689118e-03 6.40425516e-02 1.77386313e-01\n",
      " 3.68941746e-01 6.98729482e-01 1.43336557e+00 4.06888693e+00\n",
      " 1.07999436e+01 2.77319248e+01 6.23577691e+01 7.96894379e+01\n",
      " 8.01430878e+01 7.14300200e+01 6.84331625e+01 7.72228891e+01\n",
      " 8.21231713e+01 7.29360385e+01 4.85968703e+01 1.79965899e+01\n",
      " 6.15582265e+00 2.15656199e+00 8.82495587e-01 4.74015181e-01\n",
      " 1.84437533e-01 7.79096991e-02 1.06900110e-02 2.97606919e-03\n",
      " 5.64148659e-03 1.81667815e-02 1.25370942e-01 4.74341973e-01\n",
      " 9.75567862e-01 3.50390610e+00 1.35876280e+01 3.35442852e+01\n",
      " 6.02471719e+01 9.57131255e+01 1.37637977e+02 1.60808222e+02\n",
      " 1.76134855e+02 1.71021429e+02 1.67745474e+02 1.75002934e+02\n",
      " 1.70553550e+02 1.46140994e+02 1.23281175e+02 7.87504344e+01\n",
      " 4.44948901e+01 2.08064587e+01 6.44475660e+00 1.79982964e+00\n",
      " 6.46990296e-01 2.54145436e-01 6.65820549e-02 2.25595090e-02\n",
      " 1.36772453e-02 5.04304599e-02 2.07934429e-01 7.43246077e-01\n",
      " 3.26058337e+00 1.68992432e+01 4.34221358e+01 6.47060835e+01\n",
      " 8.62982401e+01 1.18245151e+02 1.51070009e+02 1.57782666e+02\n",
      " 1.62031602e+02 1.65446177e+02 1.65874600e+02 1.64294923e+02\n",
      " 1.57065469e+02 1.51368992e+02 1.38515489e+02 1.03420321e+02\n",
      " 7.35409512e+01 5.29659809e+01 2.71985054e+01 6.89546615e+00\n",
      " 1.49305529e+00 3.91590393e-01 1.16891384e-01 2.39691834e-02\n",
      " 2.64879896e-02 1.27069193e-01 3.98036841e-01 1.73367113e+00\n",
      " 9.95986314e+00 3.52892072e+01 6.23949512e+01 8.28621502e+01\n",
      " 1.03994771e+02 1.33003918e+02 1.55423602e+02 1.57706983e+02\n",
      " 1.59793512e+02 1.60867419e+02 1.60455450e+02 1.58656381e+02\n",
      " 1.55487174e+02 1.52654299e+02 1.46797985e+02 1.20807642e+02\n",
      " 9.20958769e+01 7.03984154e+01 4.66320122e+01 1.84642551e+01\n",
      " 3.69830469e+00 7.83431565e-01 1.96170970e-01 5.20269009e-02\n",
      " 2.81400156e-02 1.77568772e-01 6.85740625e-01 3.61169625e+00\n",
      " 1.88237351e+01 4.91348481e+01 7.74319299e+01 9.33421123e+01\n",
      " 1.08924406e+02 1.36488498e+02 1.54712294e+02 1.56068186e+02\n",
      " 1.58043922e+02 1.59537903e+02 1.59639271e+02 1.57181457e+02\n",
      " 1.55164933e+02 1.52017986e+02 1.46800528e+02 1.25063980e+02\n",
      " 1.00008729e+02 8.34962442e+01 6.09757391e+01 2.93778174e+01\n",
      " 7.72767925e+00 1.42816033e+00 3.19246179e-01 5.82451632e-02\n",
      " 5.11208949e-02 2.85430196e-01 1.19300167e+00 6.13548368e+00\n",
      " 2.68496807e+01 6.08597150e+01 8.43914103e+01 9.69266154e+01\n",
      " 1.12308154e+02 1.39591514e+02 1.54387752e+02 1.53989201e+02\n",
      " 1.55808262e+02 1.57699636e+02 1.58915251e+02 1.55943090e+02\n",
      " 1.53408957e+02 1.51298820e+02 1.47123876e+02 1.27889727e+02\n",
      " 1.02562685e+02 8.84927546e+01 7.08903966e+01 3.90940811e+01\n",
      " 1.27410474e+01 2.49002889e+00 6.01060908e-01 9.46844355e-02\n",
      " 6.37900983e-02 4.19212952e-01 1.96899798e+00 9.69929112e+00\n",
      " 3.37814163e+01 6.80797266e+01 8.87704760e+01 1.01242196e+02\n",
      " 1.14064028e+02 1.39266303e+02 1.52127061e+02 1.53804270e+02\n",
      " 1.55485804e+02 1.58179398e+02 1.59175578e+02 1.57301499e+02\n",
      " 1.54197452e+02 1.50190747e+02 1.44359723e+02 1.28303910e+02\n",
      " 1.04783676e+02 9.21762448e+01 7.64391306e+01 4.63907924e+01\n",
      " 1.76685634e+01 4.25366646e+00 8.87559439e-01 1.43391086e-01\n",
      " 1.27627281e-01 6.51326430e-01 2.96138240e+00 1.33164999e+01\n",
      " 3.92092180e+01 7.23822765e+01 9.18394034e+01 1.05705809e+02\n",
      " 1.15835338e+02 1.36926493e+02 1.50509409e+02 1.54314725e+02\n",
      " 1.55894751e+02 1.57487086e+02 1.56975510e+02 1.59369870e+02\n",
      " 1.55710452e+02 1.49566373e+02 1.41647416e+02 1.27188113e+02\n",
      " 1.07321747e+02 9.57908705e+01 7.98261061e+01 5.18686070e+01\n",
      " 2.19491920e+01 6.40090817e+00 1.32644188e+00 2.03058315e-01\n",
      " 1.43437213e-01 8.10720268e-01 4.07879850e+00 1.62212482e+01\n",
      " 4.25461772e+01 7.44142724e+01 9.31162355e+01 1.09984203e+02\n",
      " 1.18727580e+02 1.35089364e+02 1.49752276e+02 1.55510772e+02\n",
      " 1.57665651e+02 1.56506364e+02 1.49399801e+02 1.61061779e+02\n",
      " 1.56899052e+02 1.50188172e+02 1.39584397e+02 1.25706750e+02\n",
      " 1.11027427e+02 9.88156095e+01 8.16161399e+01 5.50532634e+01\n",
      " 2.47029687e+01 8.18531657e+00 1.77455286e+00 2.31615760e-01\n",
      " 9.11404459e-02 1.02890189e+00 4.85859575e+00 1.78929599e+01\n",
      " 4.39224552e+01 7.46281866e+01 9.25588123e+01 1.10331970e+02\n",
      " 1.19626289e+02 1.33688158e+02 1.50753645e+02 1.57140654e+02\n",
      " 1.59270703e+02 1.54998185e+02 1.42513810e+02 1.61728093e+02\n",
      " 1.58247583e+02 1.51444214e+02 1.38302479e+02 1.22473650e+02\n",
      " 1.11768343e+02 9.91862063e+01 8.17473809e+01 5.63455105e+01\n",
      " 2.62789157e+01 9.62994383e+00 2.30168106e+00 2.28773104e-01\n",
      " 1.28493336e-01 1.06766927e+00 4.84421808e+00 1.69365716e+01\n",
      " 4.26834706e+01 7.27007414e+01 8.87769063e+01 1.06619296e+02\n",
      " 1.16778796e+02 1.31832014e+02 1.52872113e+02 1.58380762e+02\n",
      " 1.60911180e+02 1.52676216e+02 1.37763686e+02 1.62482892e+02\n",
      " 1.59352607e+02 1.53252800e+02 1.38013486e+02 1.18201853e+02\n",
      " 1.08664776e+02 9.63857555e+01 7.95977116e+01 5.54729470e+01\n",
      " 2.52050711e+01 9.09479055e+00 2.09874643e+00 2.58740166e-01\n",
      " 1.61423058e-01 1.08426538e+00 4.10996342e+00 1.33958063e+01\n",
      " 3.73429796e+01 6.63348332e+01 8.22093999e+01 9.95837076e+01\n",
      " 1.13228756e+02 1.30153489e+02 1.55291040e+02 1.59123232e+02\n",
      " 1.61434005e+02 1.48706914e+02 1.34609185e+02 1.61563671e+02\n",
      " 1.59734159e+02 1.54992313e+02 1.39241416e+02 1.14106415e+02\n",
      " 1.03391706e+02 9.01858824e+01 7.33586175e+01 4.97780559e+01\n",
      " 2.06698069e+01 6.86575834e+00 1.71212149e+00 2.96741616e-01\n",
      " 1.91598700e-01 1.10363482e+00 3.78523384e+00 1.17932445e+01\n",
      " 3.42518747e+01 5.97579679e+01 7.43087115e+01 9.10336124e+01\n",
      " 1.09070349e+02 1.30296330e+02 1.57634483e+02 1.59794038e+02\n",
      " 1.61627226e+02 1.45880225e+02 1.32430116e+02 1.59707696e+02\n",
      " 1.59938136e+02 1.55610875e+02 1.42032871e+02 1.10576116e+02\n",
      " 9.64448402e+01 8.22581117e+01 6.66555909e+01 4.54978908e+01\n",
      " 1.82456078e+01 6.03945166e+00 1.67337161e+00 2.73867962e-01\n",
      " 2.31337295e-01 1.15704682e+00 3.68595720e+00 1.17596273e+01\n",
      " 3.42971386e+01 5.79873480e+01 7.12665018e+01 8.49933887e+01\n",
      " 1.04610308e+02 1.31897892e+02 1.58478637e+02 1.60010572e+02\n",
      " 1.61416291e+02 1.44390408e+02 1.31313156e+02 1.58560467e+02\n",
      " 1.60507457e+02 1.55700815e+02 1.44702357e+02 1.08437180e+02\n",
      " 9.08787646e+01 7.84169552e+01 6.42320140e+01 4.54442854e+01\n",
      " 1.87847950e+01 6.10622248e+00 1.68359922e+00 2.82902589e-01\n",
      " 2.06542739e-01 1.18889770e+00 3.80941302e+00 1.26095978e+01\n",
      " 3.57397903e+01 5.75027145e+01 6.95745852e+01 8.02569830e+01\n",
      " 1.01013926e+02 1.34102811e+02 1.58951357e+02 1.61052513e+02\n",
      " 1.60857626e+02 1.43189865e+02 1.30777001e+02 1.57284516e+02\n",
      " 1.61751105e+02 1.55951551e+02 1.46279865e+02 1.07459567e+02\n",
      " 8.60584043e+01 7.60725522e+01 6.32757910e+01 4.59590236e+01\n",
      " 1.98386935e+01 6.40903027e+00 1.79551822e+00 2.59691415e-01\n",
      " 2.15538428e-01 1.22167215e+00 4.03077461e+00 1.34214741e+01\n",
      " 3.71036749e+01 5.73345932e+01 6.85690770e+01 7.65543562e+01\n",
      " 9.89995645e+01 1.35878011e+02 1.58790594e+02 1.62157025e+02\n",
      " 1.60760710e+02 1.42580302e+02 1.30719097e+02 1.56425558e+02\n",
      " 1.62421810e+02 1.56280801e+02 1.46877433e+02 1.07898746e+02\n",
      " 8.22955381e+01 7.41526345e+01 6.29242872e+01 4.68803496e+01\n",
      " 2.13174933e+01 6.75987375e+00 1.97986925e+00 2.81617498e-01\n",
      " 1.32743119e-01 1.15885359e+00 4.19483858e+00 1.42040711e+01\n",
      " 3.82526355e+01 5.67968418e+01 6.72534622e+01 7.36205243e+01\n",
      " 9.85229640e+01 1.37652073e+02 1.58844233e+02 1.63230909e+02\n",
      " 1.60374142e+02 1.41656965e+02 1.30551405e+02 1.54587491e+02\n",
      " 1.63275117e+02 1.57195365e+02 1.47440558e+02 1.09883341e+02\n",
      " 7.98429894e+01 7.25007217e+01 6.24882174e+01 4.72770260e+01\n",
      " 2.24181407e+01 7.12688929e+00 1.97900990e+00 2.48430901e-01\n",
      " 2.60674531e-01 1.29259858e+00 4.42031077e+00 1.51736843e+01\n",
      " 3.90984957e+01 5.63324187e+01 6.63884019e+01 7.11553565e+01\n",
      " 9.89762345e+01 1.38129751e+02 1.58887451e+02 1.63829198e+02\n",
      " 1.60738105e+02 1.41149508e+02 1.30528906e+02 1.53093180e+02\n",
      " 1.64230203e+02 1.58587963e+02 1.48083864e+02 1.12126406e+02\n",
      " 7.89735431e+01 7.10146532e+01 6.21492300e+01 4.75292922e+01\n",
      " 2.35478445e+01 7.48518872e+00 2.15138908e+00 3.24388449e-01\n",
      " 1.98942324e-01 1.35334963e+00 4.56626094e+00 1.56917606e+01\n",
      " 3.97295372e+01 5.60965568e+01 6.58452853e+01 6.96199128e+01\n",
      " 9.99944962e+01 1.38392665e+02 1.58855669e+02 1.64620894e+02\n",
      " 1.61828492e+02 1.40840430e+02 1.30673187e+02 1.51603464e+02\n",
      " 1.64233248e+02 1.59322658e+02 1.48340991e+02 1.14034606e+02\n",
      " 7.86451869e+01 6.99822771e+01 6.19287445e+01 4.77656846e+01\n",
      " 2.44899624e+01 7.78725582e+00 2.25455794e+00 2.99624836e-01\n",
      " 2.57749623e-01 1.34490912e+00 4.68903161e+00 1.60500670e+01\n",
      " 3.97946275e+01 5.53891253e+01 6.48773844e+01 6.86050915e+01\n",
      " 1.01503605e+02 1.37998923e+02 1.58944815e+02 1.65604071e+02\n",
      " 1.62784146e+02 1.41225052e+02 1.30760832e+02 1.50912535e+02\n",
      " 1.65034194e+02 1.60436085e+02 1.48336556e+02 1.16036095e+02\n",
      " 7.91478958e+01 6.85899721e+01 6.15285991e+01 4.75544668e+01\n",
      " 2.49055426e+01 7.89867772e+00 2.47185526e+00 2.99907394e-01\n",
      " 3.55905018e-01 1.42973853e+00 4.81469242e+00 1.59957396e+01\n",
      " 3.96072261e+01 5.47275344e+01 6.33357809e+01 6.72227041e+01\n",
      " 1.02810804e+02 1.36961746e+02 1.58660075e+02 1.66321213e+02\n",
      " 1.63267368e+02 1.42238723e+02 1.30874703e+02 1.50466516e+02\n",
      " 1.65836288e+02 1.61583737e+02 1.48187856e+02 1.17516833e+02\n",
      " 7.94054595e+01 6.69846327e+01 6.06736196e+01 4.71133679e+01\n",
      " 2.48781394e+01 7.97576554e+00 2.70999801e+00 3.69625736e-01\n",
      " 2.80437917e-01 1.31202458e+00 4.54030784e+00 1.55847036e+01\n",
      " 3.90368833e+01 5.38369934e+01 6.16630063e+01 6.58012407e+01\n",
      " 1.03891952e+02 1.35286834e+02 1.57412796e+02 1.66570806e+02\n",
      " 1.63344555e+02 1.42829526e+02 1.31031490e+02 1.49704725e+02\n",
      " 1.65486133e+02 1.61761111e+02 1.47282292e+02 1.18019251e+02\n",
      " 7.93245673e+01 6.46687197e+01 5.93701533e+01 4.61488178e+01\n",
      " 2.46138671e+01 7.59182098e+00 2.62806286e+00 4.27227412e-01\n",
      " 2.48915329e-01 1.20040052e+00 4.23353219e+00 1.49627297e+01\n",
      " 3.75670820e+01 5.25985579e+01 6.00141951e+01 6.48501709e+01\n",
      " 1.04421704e+02 1.33073351e+02 1.55282745e+02 1.65864446e+02\n",
      " 1.62757843e+02 1.42840287e+02 1.31142624e+02 1.48736712e+02\n",
      " 1.64787343e+02 1.61329030e+02 1.45249209e+02 1.17684984e+02\n",
      " 7.94677950e+01 6.25338854e+01 5.83000336e+01 4.49603363e+01\n",
      " 2.39762506e+01 7.07691012e+00 2.44127422e+00 3.75631990e-01\n",
      " 2.50794197e-01 1.10925776e+00 3.88991131e+00 1.44191766e+01\n",
      " 3.64037109e+01 5.16274093e+01 5.84178580e+01 6.36061417e+01\n",
      " 1.02504658e+02 1.29105609e+02 1.51135006e+02 1.63457711e+02\n",
      " 1.60497371e+02 1.41475418e+02 1.29521783e+02 1.45816825e+02\n",
      " 1.62256284e+02 1.59074288e+02 1.41554939e+02 1.15535678e+02\n",
      " 7.85362939e+01 6.06697419e+01 5.74940241e+01 4.40948080e+01\n",
      " 2.33167914e+01 6.71690839e+00 2.21287667e+00 3.69528318e-01\n",
      " 2.62970774e-01 9.68300314e-01 3.59917147e+00 1.38038407e+01\n",
      " 3.56267986e+01 5.10163373e+01 5.65304958e+01 6.13303076e+01\n",
      " 9.82423350e+01 1.22828452e+02 1.44587650e+02 1.58410819e+02\n",
      " 1.55770555e+02 1.37765162e+02 1.25612018e+02 1.40797284e+02\n",
      " 1.57444325e+02 1.54311965e+02 1.35740594e+02 1.10447420e+02\n",
      " 7.61275264e+01 5.83324117e+01 5.65629666e+01 4.34102131e+01\n",
      " 2.26146417e+01 6.45280878e+00 1.98198789e+00 4.03983698e-01\n",
      " 1.84355976e-01 8.06726287e-01 3.21049964e+00 1.23742341e+01\n",
      " 3.38016918e+01 4.94414699e+01 5.38386368e+01 5.70494718e+01\n",
      " 9.03949228e+01 1.14016849e+02 1.34331446e+02 1.49185575e+02\n",
      " 1.46617442e+02 1.29810025e+02 1.17593697e+02 1.31477352e+02\n",
      " 1.48071370e+02 1.45081152e+02 1.26377278e+02 1.02349213e+02\n",
      " 7.04852795e+01 5.44363397e+01 5.45491753e+01 4.18502729e+01\n",
      " 2.10176015e+01 5.93473892e+00 1.75368792e+00 3.84247996e-01\n",
      " 6.85313183e-02 4.74073599e-01 2.53257364e+00 1.11129685e+01\n",
      " 3.16198213e+01 4.65260592e+01 5.00872763e+01 5.13068599e+01\n",
      " 7.77209893e+01 1.04941031e+02 1.30273661e+02 1.47662920e+02\n",
      " 1.46019838e+02 1.28975376e+02 1.16020550e+02 1.30743563e+02\n",
      " 1.47015320e+02 1.43700522e+02 1.22138676e+02 9.18626810e+01\n",
      " 6.25696520e+01 5.06860680e+01 5.19544814e+01 3.96401687e+01\n",
      " 1.98551428e+01 5.08025707e+00 1.17874341e+00 1.84137227e-01\n",
      " 9.72745634e-03 8.05737271e-02 7.51140663e-01 4.50685983e+00\n",
      " 1.42221000e+01 2.28388495e+01 2.13540978e+01 1.80671901e+01\n",
      " 2.79159719e+01 4.10584433e+01 6.14604687e+01 8.10447282e+01\n",
      " 8.27794603e+01 7.21991106e+01 6.61413498e+01 7.25230442e+01\n",
      " 8.38617463e+01 7.74409831e+01 5.54414574e+01 3.51744539e+01\n",
      " 2.31665314e+01 2.03828591e+01 2.56292156e+01 1.97857389e+01\n",
      " 8.76075728e+00 1.93387875e+00 2.98149948e-01 2.67948263e-02]\n"
     ]
    }
   ],
   "source": [
    "# Get m (global mean)\n",
    "m = 1/5*(mean_tshirt+mean_trouser+mean_pullover+mean_dress+mean_shirt)\n",
    "print(f\" This is m {m}\")"
   ]
  },
  {
   "cell_type": "code",
   "execution_count": 46,
   "metadata": {},
   "outputs": [],
   "source": [
    "# betweeness_scatter\n",
    "S_b= (\n",
    "len(class_tshirt)*np.outer((mean_tshirt-m),(mean_tshirt-m).T) + \n",
    "len(class_trouser)*np.outer((mean_trouser-m),(mean_trouser-m).T)+\n",
    "len(class_pullover)*np.outer((mean_pullover-m),(mean_pullover-m).T)+ \n",
    "len(class_dress)*np.outer((mean_dress-m),(mean_dress-m).T) + \n",
    "len(class_shirt)*np.outer((mean_shirt-m),(mean_shirt-m).T)\n",
    ")"
   ]
  },
  {
   "cell_type": "code",
   "execution_count": 47,
   "metadata": {},
   "outputs": [],
   "source": [
    "# find M, which is the discriminant matrix  M= S_w(inverse) * S_b\n",
    "S_W_inv = np.linalg.inv(S_w)\n",
    "discr_matrix = np.dot(S_W_inv , S_b)\n",
    "\n"
   ]
  },
  {
   "cell_type": "code",
   "execution_count": 48,
   "metadata": {},
   "outputs": [
    {
     "data": {
      "text/plain": "array([ 0.51675665+0.j        , -0.43367762+0.j        ,\n        0.45864885+0.j        ,  0.32527175+0.j        ,\n        0.58102914+0.j        , -0.62947389+0.j        ,\n       -0.47502209-0.14240215j, -0.47502209+0.14240215j,\n        0.25805073+0.06329481j,  0.25805073-0.06329481j,\n        0.23000961-0.03002379j,  0.23000961+0.03002379j,\n       -0.19621039-0.05282325j, -0.19621039+0.05282325j,\n       -0.32316234-0.25838675j, -0.32316234+0.25838675j,\n        0.20224198+0.08539803j,  0.20224198-0.08539803j,\n        0.51217879-0.15494608j,  0.51217879+0.15494608j,\n        0.8500862 +0.j        ,  0.8500862 -0.j        ,\n        0.81593433+0.j        ,  0.81593433-0.j        ,\n        0.62214744+0.j        ,  0.62214744-0.j        ,\n       -0.7269489 +0.j        ,  0.2041838 -0.51379064j,\n        0.2041838 +0.51379064j,  0.21834996-0.03614918j,\n        0.21834996+0.03614918j,  0.60145013+0.j        ,\n        0.60145013-0.j        , -0.79464617+0.j        ,\n       -0.79464617-0.j        , -0.19419366+0.35555684j,\n       -0.19419366-0.35555684j, -0.46882634+0.19891805j,\n       -0.46882634-0.19891805j, -0.21821895+0.3690942j ,\n       -0.21821895-0.3690942j ,  0.64921812+0.j        ,\n        0.64921812-0.j        , -0.80568683+0.j        ,\n       -0.80568683-0.j        ,  0.75006653+0.j        ,\n        0.75006653-0.j        ,  0.79600032+0.j        ,\n        0.79600032-0.j        ,  0.70939399+0.j        ,\n        0.70939399-0.j        ,  0.23569178+0.01947243j,\n        0.23569178-0.01947243j,  0.72692528+0.j        ,\n        0.72692528-0.j        ,  0.80997584+0.j        ,\n        0.60409242+0.j        ,  0.60409242-0.j        ,\n        0.5951782 +0.j        ,  0.5951782 -0.j        ,\n        0.69596215+0.j        ,  0.69596215-0.j        ,\n       -0.27671146-0.29679799j, -0.27671146+0.29679799j,\n       -0.87352929+0.j        ,  0.62832589+0.j        ,\n        0.62832589-0.j        ,  0.63370075+0.j        ,\n        0.63370075-0.j        ,  0.62583264+0.j        ,\n        0.62583264-0.j        ,  0.72429657+0.j        ,\n        0.72429657-0.j        ,  0.14057257+0.53813806j,\n        0.14057257-0.53813806j, -0.58867691+0.j        ,\n       -0.58867691-0.j        ,  0.33037368-0.45221216j,\n        0.33037368+0.45221216j, -0.09474757-0.48656307j,\n       -0.09474757+0.48656307j, -0.38030844+0.14120008j,\n       -0.38030844-0.14120008j, -0.13752415-0.35145316j,\n       -0.13752415+0.35145316j, -0.37431654+0.j        ,\n       -0.56930154+0.j        , -0.56930154-0.j        ,\n        0.72938665+0.j        ,  0.72938665-0.j        ,\n        0.80803637+0.j        ,  0.80803637-0.j        ,\n        0.23556242+0.36216032j,  0.23556242-0.36216032j,\n        0.80700168+0.j        ,  0.80700168-0.j        ,\n        0.58248617+0.j        ,  0.58248617-0.j        ,\n        0.35583964+0.11084441j,  0.35583964-0.11084441j,\n        0.68704063+0.j        ,  0.68704063-0.j        ,\n       -0.70998681+0.j        , -0.70998681-0.j        ,\n       -0.53836938+0.j        , -0.53836938-0.j        ,\n        0.335026  +0.21481634j,  0.335026  -0.21481634j,\n        0.31540465+0.j        ,  0.82275362+0.j        ,\n        0.95754644+0.j        ,  0.95754644-0.j        ,\n       -0.62645392+0.j        , -0.62645392-0.j        ,\n        0.54284354+0.j        ,  0.54284354-0.j        ,\n       -0.89948796+0.j        , -0.89948796-0.j        ,\n        0.74503447+0.j        ,  0.74503447-0.j        ,\n        0.90055295+0.j        ,  0.90055295-0.j        ,\n        0.81330098+0.j        ,  0.81330098-0.j        ,\n       -0.82688155+0.j        , -0.82688155-0.j        ,\n        0.9509037 +0.j        ,  0.9509037 -0.j        ,\n        0.84460892+0.j        ,  0.84460892-0.j        ,\n        0.76246385+0.j        ,  0.76246385-0.j        ,\n       -0.72743945+0.j        , -0.72743945-0.j        ,\n        0.71439213+0.j        ,  0.71439213-0.j        ,\n       -0.95568769+0.j        , -0.95568769-0.j        ,\n        0.06736893+0.0073649j ,  0.06736893-0.0073649j ,\n       -0.1439972 -0.4633038j , -0.1439972 +0.4633038j ,\n        0.8728499 +0.j        ,  0.8728499 -0.j        ,\n       -0.89951037+0.j        , -0.89951037-0.j        ,\n        0.72022883+0.j        ,  0.72022883-0.j        ,\n        0.6755613 +0.j        ,  0.6755613 -0.j        ,\n        0.92743739+0.j        ,  0.92743739-0.j        ,\n       -0.07566752-0.23414848j, -0.07566752+0.23414848j,\n       -0.86887137+0.j        , -0.86887137-0.j        ,\n        0.46523795+0.j        ,  0.46523795-0.j        ,\n        0.92639673+0.j        , -0.67764794+0.j        ,\n       -0.10381101+0.34510794j, -0.10381101-0.34510794j,\n        0.22358142-0.01041825j,  0.22358142+0.01041825j,\n       -0.69867572+0.j        , -0.69867572-0.j        ,\n        0.85706842+0.j        ,  0.85706842-0.j        ,\n        0.85174216+0.j        ,  0.06178564-0.13284077j,\n        0.06178564+0.13284077j,  0.84799343+0.j        ,\n        0.84799343-0.j        , -0.74141796+0.j        ,\n        0.8344317 +0.j        ,  0.8344317 -0.j        ,\n        0.68483193+0.j        ,  0.68483193-0.j        ,\n        0.62662183+0.j        ,  0.62662183-0.j        ,\n        0.59587124+0.j        ,  0.59587124-0.j        ,\n        0.88195779+0.j        ,  0.88195779-0.j        ,\n       -0.66509504+0.j        , -0.66509504-0.j        ,\n       -0.72222509+0.j        , -0.72222509-0.j        ,\n       -0.90522468+0.j        , -0.90522468-0.j        ,\n        0.74384634+0.j        ,  0.74384634-0.j        ,\n        0.87976663+0.j        ,  0.87976663-0.j        ,\n        0.83267305+0.j        , -0.60257732+0.j        ,\n       -0.60257732-0.j        ,  0.76018667+0.j        ,\n        0.76018667-0.j        , -0.87258044+0.j        ,\n       -0.87258044-0.j        ,  0.50146852+0.j        ,\n        0.86492811+0.j        ,  0.86492811-0.j        ,\n        0.86248163+0.j        ,  0.725084  +0.j        ,\n        0.725084  -0.j        ,  0.08325237+0.55656685j,\n        0.08325237-0.55656685j, -0.52494013+0.j        ,\n       -0.52494013-0.j        ,  0.8469417 +0.j        ,\n        0.8469417 -0.j        , -0.72610442+0.j        ,\n       -0.72610442-0.j        ,  0.79976716+0.j        ,\n        0.79976716-0.j        , -0.12973001-0.34013426j,\n       -0.12973001+0.34013426j, -0.64768677+0.j        ,\n        0.91851858+0.j        ,  0.91851858-0.j        ,\n        0.73234094+0.j        ,  0.73234094-0.j        ,\n       -0.14959218-0.08031105j, -0.14959218+0.08031105j,\n        0.49136492+0.j        ,  0.49136492-0.j        ,\n       -0.64365848+0.j        , -0.64365848-0.j        ,\n        0.62063711+0.j        ,  0.62063711-0.j        ,\n       -0.77184593+0.j        , -0.77184593-0.j        ,\n       -0.31622365-0.35785897j, -0.31622365+0.35785897j,\n        0.75944158+0.j        ,  0.75944158-0.j        ,\n        0.49633584+0.j        ,  0.49633584-0.j        ,\n        0.84601478+0.j        ,  0.84601478-0.j        ,\n        0.68213229+0.j        ,  0.68213229-0.j        ,\n       -0.20408453+0.36155724j, -0.20408453-0.36155724j,\n       -0.08341347+0.14371938j, -0.08341347-0.14371938j,\n       -0.27858122+0.32944896j, -0.27858122-0.32944896j,\n       -0.15256087-0.23024362j, -0.15256087+0.23024362j,\n        0.65123838+0.j        ,  0.65123838-0.j        ,\n        0.57758885+0.j        ,  0.57758885-0.j        ,\n       -0.79303483+0.j        ,  0.70007494+0.j        ,\n        0.70007494-0.j        ,  0.67844998+0.j        ,\n        0.67844998-0.j        ,  0.7331403 +0.j        ,\n        0.7331403 -0.j        ,  0.77281042+0.j        ,\n        0.77281042-0.j        , -0.88595298+0.j        ,\n       -0.88595298-0.j        ,  0.32501798+0.03499304j,\n        0.32501798-0.03499304j,  0.5105814 +0.j        ,\n        0.5105814 -0.j        ,  0.45391021+0.20700002j,\n        0.45391021-0.20700002j,  0.82708014+0.j        ,\n        0.82708014-0.j        ,  0.68612769+0.j        ,\n        0.68612769-0.j        ,  0.66639567+0.j        ,\n        0.66639567-0.j        ,  0.62788413+0.j        ,\n        0.62788413-0.j        ,  0.73422408+0.j        ,\n        0.73422408-0.j        ,  0.9104942 +0.j        ,\n        0.9104942 -0.j        ,  0.08278977+0.2750402j ,\n        0.08278977-0.2750402j ,  0.44842535+0.j        ,\n        0.61105169+0.j        ,  0.61105169-0.j        ,\n        0.04896497+0.j        , -0.42997901+0.33600554j,\n       -0.42997901-0.33600554j, -0.05285143-0.30098446j,\n       -0.05285143+0.30098446j,  0.60189209+0.j        ,\n        0.60189209-0.j        ,  0.15773103+0.25327856j,\n        0.15773103-0.25327856j, -0.39027202+0.j        ,\n        0.82787864+0.j        ,  0.82787864-0.j        ,\n        0.83482705+0.j        ,  0.83482705-0.j        ,\n        0.68221439+0.j        ,  0.68221439-0.j        ,\n        0.86293674+0.j        ,  0.86293674-0.j        ,\n        0.81697345+0.j        ,  0.81697345-0.j        ,\n        0.74003305+0.j        ,  0.74003305-0.j        ,\n        0.84467559+0.j        ,  0.84467559-0.j        ,\n        0.88483284+0.j        ,  0.88483284-0.j        ,\n        0.83277496+0.j        ,  0.83277496-0.j        ,\n        0.70776457+0.j        ,  0.70776457-0.j        ,\n        0.54253427+0.j        ,  0.54253427-0.j        ,\n        0.71008801+0.j        ,  0.71008801-0.j        ,\n        0.6968315 +0.j        ,  0.6968315 -0.j        ,\n        0.64209979+0.j        ,  0.64209979-0.j        ,\n        0.86583213+0.j        ,  0.86583213-0.j        ,\n        0.40927891-0.00727721j,  0.40927891+0.00727721j,\n        0.8112467 +0.j        ,  0.8112467 -0.j        ,\n        0.33972172-0.11539328j,  0.33972172+0.11539328j,\n        0.73752921+0.j        ,  0.73752921-0.j        ,\n       -0.55304882+0.j        , -0.55304882-0.j        ,\n       -0.64075428+0.j        , -0.64075428-0.j        ,\n       -0.00192583-0.07852561j, -0.00192583+0.07852561j,\n       -0.16871923-0.02268208j, -0.16871923+0.02268208j,\n        0.4004369 -0.38112381j,  0.4004369 +0.38112381j,\n       -0.82027447+0.j        , -0.82027447-0.j        ,\n       -0.03685739+0.45697446j, -0.03685739-0.45697446j,\n        0.86938423+0.j        ,  0.86938423-0.j        ,\n       -0.05015032+0.28436216j, -0.05015032-0.28436216j,\n        0.88814004+0.j        ,  0.88814004-0.j        ,\n        0.51385672+0.j        ,  0.51385672-0.j        ,\n        0.71132576+0.j        ,  0.71132576-0.j        ,\n        0.76224035+0.j        ,  0.76224035-0.j        ,\n        0.77187022+0.j        ,  0.77187022-0.j        ,\n        0.04340463+0.j        ,  0.67225424+0.j        ,\n       -0.62353289+0.j        , -0.62353289-0.j        ,\n        0.53680367+0.j        ,  0.53680367-0.j        ,\n        0.54023484+0.j        ,  0.54023484-0.j        ,\n       -0.63622014+0.j        , -0.63622014-0.j        ,\n       -0.21612781-0.0401245j , -0.21612781+0.0401245j ,\n        0.88628622+0.j        ,  0.88628622-0.j        ,\n        0.12995051-0.23587218j,  0.12995051+0.23587218j,\n        0.86030446+0.j        ,  0.86030446-0.j        ,\n        0.70403499+0.j        ,  0.70403499-0.j        ,\n       -0.83548666+0.j        , -0.83548666-0.j        ,\n        0.81862403+0.j        ,  0.81862403-0.j        ,\n        0.54179528+0.18598184j,  0.54179528-0.18598184j,\n        0.84499761+0.j        ,  0.84499761-0.j        ,\n       -0.52102819-0.1162807j , -0.52102819+0.1162807j ,\n       -0.21057889-0.03223051j, -0.21057889+0.03223051j,\n       -0.77929216+0.j        , -0.77929216-0.j        ,\n       -0.08916415+0.08271905j, -0.08916415-0.08271905j,\n       -0.43674316+0.41743425j, -0.43674316-0.41743425j,\n       -0.30613553-0.0495766j , -0.30613553+0.0495766j ,\n        0.80641315+0.j        ,  0.80641315-0.j        ,\n       -0.76689949+0.j        , -0.76689949-0.j        ,\n        0.12293315-0.22855717j,  0.12293315+0.22855717j,\n        0.80864425+0.j        ,  0.80864425-0.j        ,\n       -0.77512776+0.j        , -0.77512776-0.j        ,\n       -0.55470783+0.23151145j, -0.55470783-0.23151145j,\n        0.68399224+0.j        ,  0.68399224-0.j        ,\n        0.65072946+0.j        ,  0.65072946-0.j        ,\n       -0.73735626+0.j        , -0.73735626-0.j        ,\n        0.59807513+0.j        ,  0.59807513-0.j        ,\n        0.71391048+0.j        ,  0.71391048-0.j        ,\n        0.57545341+0.j        ,  0.15880906-0.32618536j,\n        0.15880906+0.32618536j, -0.04709748+0.59239563j,\n       -0.04709748-0.59239563j, -0.03622814+0.01832795j,\n       -0.03622814-0.01832795j, -0.46263493+0.28722507j,\n       -0.46263493-0.28722507j, -0.17188959-0.08208451j,\n       -0.17188959+0.08208451j,  0.03079587-0.54235149j,\n        0.03079587+0.54235149j,  0.06643251+0.38188737j,\n        0.06643251-0.38188737j, -0.30355854+0.38967737j,\n       -0.30355854-0.38967737j, -0.29556492+0.57429501j,\n       -0.29556492-0.57429501j,  0.64156457+0.j        ,\n        0.64156457-0.j        , -0.44494238+0.j        ,\n       -0.44494238-0.j        ,  0.75359976+0.j        ,\n        0.75359976-0.j        ,  0.64936598+0.j        ,\n        0.64936598-0.j        , -0.16166665+0.15159234j,\n       -0.16166665-0.15159234j,  0.84332189+0.j        ,\n        0.84332189-0.j        , -0.12965589+0.03053307j,\n       -0.12965589-0.03053307j, -0.01921855-0.51737248j,\n       -0.01921855+0.51737248j,  0.53903226-0.03987791j,\n        0.53903226+0.03987791j,  0.57666466+0.j        ,\n        0.57666466-0.j        ,  0.00417587-0.50299481j,\n        0.00417587+0.50299481j, -0.09113244-0.30894967j,\n       -0.09113244+0.30894967j,  0.76862115+0.j        ,\n        0.76862115-0.j        ,  0.15052166-0.32795249j,\n        0.15052166+0.32795249j,  0.5498174 +0.j        ,\n        0.5498174 -0.j        ,  0.91386831+0.j        ,\n        0.91386831-0.j        ,  0.69096314+0.j        ,\n        0.69096314-0.j        ,  0.78653202+0.j        ,\n       -0.17064039-0.32331683j, -0.17064039+0.32331683j,\n       -0.68586342+0.j        , -0.68586342-0.j        ,\n       -0.8854716 +0.j        , -0.8854716 -0.j        ,\n        0.65915286+0.j        ,  0.65915286-0.j        ,\n       -0.40342324+0.23075598j, -0.40342324-0.23075598j,\n       -0.16505246-0.46428217j, -0.16505246+0.46428217j,\n        0.80549902+0.j        ,  0.80549902-0.j        ,\n       -0.59451286-0.01482653j, -0.59451286+0.01482653j,\n        0.70106393+0.j        ,  0.70106393-0.j        ,\n       -0.93719091+0.j        , -0.93719091-0.j        ,\n        0.77799599+0.j        ,  0.77799599-0.j        ,\n       -0.65510911+0.j        , -0.65510911-0.j        ,\n        0.77312511+0.j        ,  0.77312511-0.j        ,\n       -0.13733317+0.15059081j, -0.13733317-0.15059081j,\n       -0.04108945+0.15569059j, -0.04108945-0.15569059j,\n        0.75671359+0.j        ,  0.75671359-0.j        ,\n        0.68664681+0.j        , -0.68490272+0.j        ,\n       -0.68490272-0.j        ,  0.82999329+0.j        ,\n        0.82999329-0.j        , -0.24817002-0.10579714j,\n       -0.24817002+0.10579714j, -0.14018313-0.43135327j,\n       -0.14018313+0.43135327j,  0.03632368-0.49443801j,\n        0.03632368+0.49443801j,  0.7611048 +0.j        ,\n        0.7611048 -0.j        , -0.51595502+0.07836329j,\n       -0.51595502-0.07836329j, -0.84392294+0.j        ,\n       -0.84392294-0.j        ,  0.76725101+0.j        ,\n        0.76725101-0.j        , -0.59808255+0.j        ,\n       -0.59808255-0.j        , -0.40434504+0.32015116j,\n       -0.40434504-0.32015116j, -0.66012208+0.j        ,\n       -0.66012208-0.j        ,  0.01455161-0.24086462j,\n        0.01455161+0.24086462j,  0.27418746-0.38289355j,\n        0.27418746+0.38289355j, -0.25791333-0.32370886j,\n       -0.25791333+0.32370886j,  0.75578867+0.j        ,\n        0.75578867-0.j        ,  0.83874725+0.j        ,\n        0.83874725-0.j        , -0.66812506+0.j        ,\n       -0.66812506-0.j        ,  0.74732232+0.j        ,\n        0.74732232-0.j        , -0.00940042+0.52821575j,\n       -0.00940042-0.52821575j,  0.08376142+0.17864031j,\n        0.08376142-0.17864031j,  0.70945169+0.j        ,\n        0.70945169-0.j        , -0.44954849+0.26295453j,\n       -0.44954849-0.26295453j, -0.01800468+0.44611767j,\n       -0.01800468-0.44611767j, -0.06394898-0.44358051j,\n       -0.06394898+0.44358051j, -0.65893676+0.j        ,\n       -0.65893676-0.j        ,  0.56772532+0.j        ,\n        0.56772532-0.j        , -0.62410935+0.j        ,\n       -0.62410935-0.j        ,  0.51912975+0.j        ,\n        0.51912975-0.j        ,  0.45815484+0.j        ,\n        0.45815484-0.j        , -0.62888137+0.j        ,\n       -0.62888137-0.j        , -0.41537098-0.290385j  ,\n       -0.41537098+0.290385j  , -0.68004103+0.j        ,\n       -0.68004103-0.j        ,  0.77321356+0.j        ,\n        0.77321356-0.j        ,  0.54530566+0.j        ,\n       -0.01787502+0.01344338j, -0.01787502-0.01344338j,\n       -0.66150557+0.j        , -0.66150557-0.j        ,\n       -0.2413104 +0.j        , -0.76849303+0.j        ,\n        0.85624143+0.j        ,  0.85624143-0.j        ,\n       -0.92654747+0.j        , -0.92654747-0.j        ,\n       -0.50164404+0.j        , -0.50164404-0.j        ,\n        0.25895378+0.0725322j ,  0.25895378-0.0725322j ,\n       -0.60323444+0.j        , -0.60323444-0.j        ,\n        0.92779487+0.j        ,  0.92779487-0.j        ,\n        0.71087246+0.j        ,  0.71087246-0.j        ,\n       -0.17578187+0.j        ,  0.15201748-0.07656002j,\n        0.15201748+0.07656002j,  0.9274517 +0.j        ,\n       -0.33508734-0.07671735j, -0.33508734+0.07671735j,\n        0.19151271-0.02942572j,  0.19151271+0.02942572j,\n        0.71877902+0.j        ,  0.71877902-0.j        ,\n       -0.83701047+0.j        , -0.33806155-0.32020385j,\n       -0.33806155+0.32020385j, -0.16888498-0.38044057j,\n       -0.16888498+0.38044057j,  0.63038648+0.j        ,\n        0.63038648-0.j        , -0.3877754 -0.06311667j,\n       -0.3877754 +0.06311667j,  0.0106759 -0.44133457j,\n        0.0106759 +0.44133457j,  0.10050996+0.57496574j,\n        0.10050996-0.57496574j,  0.12977508+0.225292j  ,\n        0.12977508-0.225292j  ,  0.27643144+0.19168563j,\n        0.27643144-0.19168563j,  0.85521207+0.j        ,\n        0.85521207-0.j        , -0.78538353+0.j        ,\n       -0.78538353-0.j        ,  0.43034511+0.22151367j,\n        0.43034511-0.22151367j,  0.0700372 +0.31549976j,\n        0.0700372 -0.31549976j, -0.005543  -0.2460464j ,\n       -0.005543  +0.2460464j ,  0.63582157+0.j        ,\n        0.63582157-0.j        ,  0.53866314+0.j        ,\n        0.53866314-0.j        , -0.39749748-0.01722915j,\n       -0.39749748+0.01722915j, -0.39224354-0.05204483j,\n       -0.39224354+0.05204483j, -0.39631458-0.44935883j,\n       -0.39631458+0.44935883j,  0.32086569+0.34323491j,\n        0.32086569-0.34323491j,  0.1547693 +0.j        ,\n       -0.85090655+0.j        , -0.85090655-0.j        ,\n       -0.47724973-0.03314969j, -0.47724973+0.03314969j,\n        0.2380319 -0.27289609j,  0.2380319 +0.27289609j,\n       -0.55873868+0.j        , -0.55873868-0.j        ,\n        0.59701896+0.j        ,  0.59701896-0.j        ,\n       -0.1339904 -0.23953226j, -0.1339904 +0.23953226j,\n        0.01779537+0.35600915j,  0.01779537-0.35600915j,\n        0.73345114+0.j        ,  0.73345114-0.j        ,\n        0.78250205+0.j        ,  0.78250205-0.j        ,\n       -0.61526071+0.j        , -0.61526071-0.j        ,\n       -0.86969886+0.j        , -0.86969886-0.j        ,\n        0.74234269+0.j        ,  0.74234269-0.j        ,\n        0.92623956+0.j        ,  0.63036628+0.j        ,\n       -0.18234675+0.2789882j , -0.18234675-0.2789882j ,\n       -0.61939257+0.j        , -0.61939257-0.j        ,\n       -0.62593687+0.j        , -0.62593687-0.j        ,\n       -0.24048931+0.26705431j, -0.24048931-0.26705431j,\n        0.84050489+0.j        ,  0.84050489-0.j        ,\n       -0.60478731+0.j        ,  0.60250958+0.j        ,\n        0.60250958-0.j        ,  0.40499679+0.19744881j,\n        0.40499679-0.19744881j,  0.77111904+0.j        ,\n        0.77111904-0.j        ,  0.67524321+0.j        ,\n        0.67524321-0.j        , -0.85338848+0.j        ,\n        0.57607859+0.j        ,  0.57607859-0.j        ,\n       -0.76655027+0.j        , -0.76655027-0.j        ,\n       -0.09639168-0.47331733j, -0.09639168+0.47331733j,\n        0.14751316+0.38026068j,  0.14751316-0.38026068j,\n        0.8626917 +0.j        ,  0.8626917 -0.j        ,\n       -0.2671012 -0.18619969j, -0.2671012 +0.18619969j,\n        0.86297426+0.j        ,  0.86297426-0.j        ,\n       -0.37630375+0.01218657j, -0.37630375-0.01218657j,\n        0.76160457+0.j        ,  0.76160457-0.j        ,\n        0.12135388+0.42199242j,  0.12135388-0.42199242j,\n        0.3647697 -0.03913303j,  0.3647697 +0.03913303j,\n        0.90802386+0.j        ,  0.90802386-0.j        ,\n       -0.97560177+0.j        ,  0.76764752+0.j        ,\n        0.76764752-0.j        ,  0.64216005+0.j        ,\n        0.64216005-0.j        ,  0.65086964+0.j        ,\n        0.65086964-0.j        , -0.62984334-0.01442223j,\n       -0.62984334+0.01442223j, -0.82260213+0.j        ,\n       -0.82260213-0.j        , -0.06739631+0.28693141j,\n       -0.06739631-0.28693141j,  0.69002563+0.j        ,\n        0.69002563-0.j        ,  0.91141926+0.j        ,\n       -0.1506873 +0.37263717j, -0.1506873 -0.37263717j,\n       -0.08167871+0.j        ,  0.88578722+0.j        ,\n        0.85376445+0.j        ,  0.85376445-0.j        ,\n        0.02217807-0.43935947j,  0.02217807+0.43935947j,\n       -0.20032035+0.j        , -0.47672661+0.29312868j,\n       -0.47672661-0.29312868j, -0.66414098+0.j        ,\n       -0.66414098-0.j        , -0.27029077-0.32071665j,\n       -0.27029077+0.32071665j,  0.51806556-0.21351742j,\n        0.51806556+0.21351742j,  0.2809276 -0.363091j  ,\n        0.2809276 +0.363091j  , -0.6183425 +0.j        ,\n       -0.6183425 -0.j        , -0.81156184+0.j        ,\n       -0.81156184-0.j        , -0.60327346+0.j        ,\n       -0.30369397+0.12253064j, -0.30369397-0.12253064j,\n        0.19884835+0.24237826j,  0.19884835-0.24237826j,\n       -0.7739951 +0.j        ,  0.76797703+0.j        ,\n        0.76797703-0.j        ,  0.65014388+0.j        ,\n        0.65014388-0.j        ,  0.71369765+0.j        ,\n        0.71369765-0.j        , -0.91431607+0.j        ,\n       -0.91431607-0.j        ,  0.59423562+0.j        ,\n        0.59423562-0.j        ,  0.46076854+0.12204151j,\n        0.46076854-0.12204151j,  0.94288155+0.j        ,\n        0.94288155-0.j        ,  0.47935664+0.j        ])"
     },
     "execution_count": 48,
     "metadata": {},
     "output_type": "execute_result"
    }
   ],
   "source": [
    "# Get the eigen values and eigen vectors of the discriminant matrix  M\n",
    "eigen_values, eigen_vectors = np.linalg.eig(discr_matrix)\n",
    "eigen_vectors[0,]\n"
   ]
  },
  {
   "cell_type": "code",
   "execution_count": 49,
   "metadata": {},
   "outputs": [
    {
     "name": "stdout",
     "output_type": "stream",
     "text": [
      "(2, 784)\n"
     ]
    }
   ],
   "source": [
    "import numpy as np\n",
    "\n",
    "# Assuming you have already calculated eigenvalues and eigenvectors\n",
    "eigen_values, eigen_vectors = np.linalg.eig(discr_matrix)\n",
    "\n",
    "# Create pairs of eigenvalues and eigenvectors\n",
    "eigen_pairs = [(eigen_values[i], eigen_vectors[:, i]) for i in range(len(eigen_values))]\n",
    "\n",
    "# Sort the eigenvalue-eigenvector pairs based on eigenvalues\n",
    "eigen_pairs.sort(key=lambda x: x[0], reverse=True)\n",
    "\n",
    "# Extract the top 2 eigenvalues and corresponding eigenvectors\n",
    "top_eigenvalues = [eigen_pairs[i][0] for i in range(2)]\n",
    "top_eigenvectors = [eigen_pairs[i][1] for i in range(2)]\n",
    "\n",
    "# Convert the lists to numpy arrays if needed\n",
    "top_eigenvalues = np.array(top_eigenvalues)\n",
    "top_eigenvectors = np.array(top_eigenvectors)\n",
    "\n",
    "# Now top_eigenvalues and top_eigenvectors contain the top 2 eigenvalues and corresponding eigenvectors\n",
    "print(top_eigenvectors.shape)"
   ]
  },
  {
   "cell_type": "code",
   "execution_count": 50,
   "metadata": {},
   "outputs": [
    {
     "name": "stdout",
     "output_type": "stream",
     "text": [
      "(2, 784)\n",
      "(784,)\n",
      "(784,)\n"
     ]
    }
   ],
   "source": [
    "# Transoforming the eigenvectoræs to real numbers\n",
    "top_eigenvectors_real_nb = np.real(top_eigenvectors)\n",
    "print(top_eigenvectors_real_nb.shape)\n",
    "x1 =top_eigenvectors_real_nb[0]\n",
    "x2 = top_eigenvectors_real_nb[1]\n",
    "print(x1.shape)\n",
    "print(x2.shape)"
   ]
  },
  {
   "cell_type": "code",
   "execution_count": 51,
   "metadata": {},
   "outputs": [],
   "source": [
    "# Add LDA from a library and compare the reuslts\n"
   ]
  },
  {
   "cell_type": "code",
   "execution_count": 52,
   "metadata": {},
   "outputs": [
    {
     "name": "stdout",
     "output_type": "stream",
     "text": [
      "(2033, 784)\n"
     ]
    }
   ],
   "source": [
    "# ADD pca and see which one does a better job maybe\n",
    "print(class_tshirt.shape)"
   ]
  },
  {
   "cell_type": "code",
   "execution_count": 53,
   "metadata": {},
   "outputs": [
    {
     "data": {
      "text/plain": "<matplotlib.collections.PathCollection at 0x216d39b8eb0>"
     },
     "execution_count": 53,
     "metadata": {},
     "output_type": "execute_result"
    },
    {
     "data": {
      "text/plain": "<Figure size 432x288 with 1 Axes>",
      "image/png": "[encoded data removed]"
     },
     "metadata": {
      "needs_background": "light"
     },
     "output_type": "display_data"
    }
   ],
   "source": [
    "#Do scatter plot for each class to seee how LDA works\n",
    "\n",
    "tshirt_proj_x1 = np.dot(class_tshirt,x1)\n",
    "tshirt_proj_x2 = np.dot(class_tshirt,x2)\n",
    "\n",
    "plt.scatter(tshirt_proj_x1,tshirt_proj_x2)\n",
    "\n",
    "trouser_proj_x1 = np.dot(class_trouser,x1)\n",
    "trouser_proj_x2 = np.dot(class_trouser,x2)\n",
    "\n",
    "\n",
    "plt.scatter(tshirt_proj_x1,tshirt_proj_x2)\n",
    "plt.scatter(trouser_proj_x1,trouser_proj_x2)\n",
    "\n",
    "pullover_proj_x1 = np.dot(class_pullover,x1)\n",
    "pullover_proj_x2 = np.dot(class_pullover,x2)\n",
    "\n",
    "plt.scatter(pullover_proj_x1,pullover_proj_x2)\n",
    "\n",
    "dress_proj_x1 = np.dot(class_dress,x1)\n",
    "dress_proj_x2 = np.dot(class_dress,x2)\n",
    "\n",
    "plt.scatter(dress_proj_x1,dress_proj_x2)\n",
    "\n",
    "shirts_proj_x1 = np.dot(class_shirt,x1)\n",
    "shirts_proj_x2 = np.dot(class_shirt,x2)\n",
    "\n",
    "plt.scatter(shirts_proj_x1,shirts_proj_x2)"
   ]
  },
  {
   "cell_type": "code",
   "execution_count": 82,
   "outputs": [
    {
     "data": {
      "text/plain": "(array([0.00949311, 0.04789704, 0.20712232, 0.27788911, 0.19590319,\n        0.08414344, 0.02416427, 0.01165063, 0.00302053, 0.00215752]),\n array([-8.25678059, -7.09862409, -5.94046758, -4.78231108, -3.62415457,\n        -2.46599807, -1.30784156, -0.14968506,  1.00847145,  2.16662795,\n         3.32478446]),\n <BarContainer object of 10 artists>)"
     },
     "execution_count": 82,
     "metadata": {},
     "output_type": "execute_result"
    },
    {
     "data": {
      "text/plain": "<Figure size 720x720 with 10 Axes>",
      "image/png": "[encoded data removed]"
     },
     "metadata": {
      "needs_background": "light"
     },
     "output_type": "display_data"
    }
   ],
   "source": [
    "\n",
    "\n",
    "\n",
    "fig, axs = plt.subplots(5, 2, figsize=(10, 10))\n",
    "\n",
    "axs[0, 0].hist(tshirt_proj_x1, density = 1)\n",
    "axs[0, 1].hist(tshirt_proj_x2, density = 1)\n",
    "\n",
    "axs[1, 0].hist(dress_proj_x1, density = 1)\n",
    "axs[1, 1].hist(dress_proj_x2, density = 1)\n",
    "\n",
    "axs[2, 0].hist(trouser_proj_x1, density = 1)\n",
    "axs[2, 1].hist(trouser_proj_x2, density = 1)\n",
    "\n",
    "\n",
    "axs[3, 0].hist(trouser_proj_x1, density = 1)\n",
    "axs[3, 1].hist(trouser_proj_x2, density = 1)\n",
    "\n",
    "axs[4, 0].hist(pullover_proj_x1, density = 1)\n",
    "axs[4, 1].hist(pullover_proj_x2, density = 1)\n",
    "\n",
    "\n",
    "\n"
   ],
   "metadata": {
    "collapsed": false
   }
  },
  {
   "cell_type": "code",
   "execution_count": 79,
   "outputs": [
    {
     "ename": "SyntaxError",
     "evalue": "invalid syntax (4168385536.py, line 5)",
     "output_type": "error",
     "traceback": [
      "\u001B[1;36m  Input \u001B[1;32mIn [79]\u001B[1;36m\u001B[0m\n\u001B[1;33m    644/np.sum(arr[0])\u001B[0m\n\u001B[1;37m    ^\u001B[0m\n\u001B[1;31mSyntaxError\u001B[0m\u001B[1;31m:\u001B[0m invalid syntax\n"
     ]
    }
   ],
   "source": [
    "arr = (array([ 22., 111., 480., 644., 454., 195.,  56.,  27.,   7.,   5.]),\n",
    " array([-8.25678059, -7.09862409, -5.94046758, -4.78231108, -3.62415457,\n",
    "        -2.46599807, -1.30784156, -0.14968506,  1.00847145,  2.16662795,\n",
    "         3.32478446])\n",
    "644/np.sum(arr[0])"
   ],
   "metadata": {
    "collapsed": false
   }
  },
  {
   "cell_type": "code",
   "execution_count": 78,
   "outputs": [
    {
     "ename": "SyntaxError",
     "evalue": "invalid syntax (2165377833.py, line 36)",
     "output_type": "error",
     "traceback": [
      "\u001B[1;36m  Input \u001B[1;32mIn [78]\u001B[1;36m\u001B[0m\n\u001B[1;33m    px1_tshirt =\u001B[0m\n\u001B[1;37m                ^\u001B[0m\n\u001B[1;31mSyntaxError\u001B[0m\u001B[1;31m:\u001B[0m invalid syntax\n"
     ]
    }
   ],
   "source": [
    "test1 = test_data[0:,:-1][0]\n",
    "print(test1.shape)\n",
    "ldatest1x1 = np.dot(test1,x1)\n",
    "ldatest1x2 = np.dot(test1,x2)\n",
    "print(ldatest1x1)\n",
    "print(ldatest1x2)\n",
    "\n",
    "tshirt_proj_x1 = np.dot(class_tshirt,x1)\n",
    "tshirt_proj_x2 = np.dot(class_tshirt,x2)\n",
    "\n",
    "plt.scatter(tshirt_proj_x1,tshirt_proj_x2)\n",
    "\n",
    "trouser_proj_x1 = np.dot(class_trouser,x1)\n",
    "trouser_proj_x2 = np.dot(class_trouser,x2)\n",
    "\n",
    "\n",
    "plt.scatter(tshirt_proj_x1,tshirt_proj_x2)\n",
    "plt.scatter(trouser_proj_x1,trouser_proj_x2)\n",
    "\n",
    "pullover_proj_x1 = np.dot(class_pullover,x1)\n",
    "pullover_proj_x2 = np.dot(class_pullover,x2)\n",
    "\n",
    "plt.scatter(pullover_proj_x1,pullover_proj_x2)\n",
    "\n",
    "dress_proj_x1 = np.dot(class_dress,x1)\n",
    "dress_proj_x2 = np.dot(class_dress,x2)\n",
    "\n",
    "plt.scatter(dress_proj_x1,dress_proj_x2)\n",
    "\n",
    "shirts_proj_x1 = np.dot(class_shirt,x1)\n",
    "shirts_proj_x2 = np.dot(class_shirt,x2)\n",
    "\n",
    "plt.scatter(shirts_proj_x1,shirts_proj_x2)\n",
    "plt.scatter(ldatest1x1,ldatest1x2, color = 'black')\n",
    "\n",
    "px1_tshirt ="
   ],
   "metadata": {
    "collapsed": false
   }
  },
  {
   "cell_type": "code",
   "execution_count": null,
   "outputs": [],
   "source": [],
   "metadata": {
    "collapsed": false
   }
  },
  {
   "cell_type": "markdown",
   "metadata": {},
   "source": [
    "## Step 3: Implementing Naive Bayes"
   ]
  },
  {
   "cell_type": "markdown",
   "metadata": {},
   "source": [
    "# 3.1 Getting the simple probabilities"
   ]
  },
  {
   "cell_type": "markdown",
   "metadata": {},
   "source": []
  }
 ],
 "metadata": {
  "kernelspec": {
   "display_name": "Python 3",
   "language": "python",
   "name": "python3"
  },
  "language_info": {
   "codemirror_mode": {
    "name": "ipython",
    "version": 3
   },
   "file_extension": ".py",
   "mimetype": "text/x-python",
   "name": "python",
   "nbconvert_exporter": "python",
   "pygments_lexer": "ipython3",
   "version": "3.11.4"
  }
 },
 "nbformat": 4,
 "nbformat_minor": 0
}
